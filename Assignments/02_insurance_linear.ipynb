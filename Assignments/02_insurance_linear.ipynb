{
 "cells": [
  {
   "cell_type": "markdown",
   "metadata": {
    "_cell_guid": "b1076dfc-b9ad-4769-8c92-a6c4dae69d19",
    "_uuid": "8f2839f25d086af736a60e9eeb907d3b93b6e0e5",
    "id": "lJuOiZtNTIsC"
   },
   "source": [
    "# Insurance cost prediction using linear regression\n",
    "\n",
    "Make a submisson here: https://jovian.ai/learn/deep-learning-with-pytorch-zero-to-gans/assignment/assignment-2-train-your-first-model\n",
    "\n",
    "In this assignment we're going to use information like a person's age, sex, BMI, no. of children and smoking habit to predict the price of yearly medical bills. This kind of model is useful for insurance companies to determine the yearly insurance premium for a person. The dataset for this problem is taken from [Kaggle](https://www.kaggle.com/mirichoi0218/insurance).\n",
    "\n",
    "\n",
    "We will create a model with the following steps:\n",
    "1. Download and explore the dataset\n",
    "2. Prepare the dataset for training\n",
    "3. Create a linear regression model\n",
    "4. Train the model to fit the data\n",
    "5. Make predictions using the trained model\n",
    "\n",
    "\n",
    "This assignment builds upon the concepts from the first 2 lessons. It will help to review these Jupyter notebooks:\n",
    "- PyTorch basics: https://jovian.ai/aakashns/01-pytorch-basics\n",
    "- Linear Regression: https://jovian.ai/aakashns/02-linear-regression\n",
    "- Logistic Regression: https://jovian.ai/aakashns/03-logistic-regression\n",
    "- Linear regression (minimal): https://jovian.ai/aakashns/housing-linear-minimal\n",
    "- Logistic regression (minimal): https://jovian.ai/aakashns/mnist-logistic-minimal\n",
    "\n",
    "As you go through this notebook, you will find a **???** in certain places. Your job is to replace the **???** with appropriate code or values, to ensure that the notebook runs properly end-to-end . In some cases, you'll be required to choose some hyperparameters (learning rate, batch size etc.). Try to experiment with the hypeparameters to get the lowest loss.\n"
   ]
  },
  {
   "cell_type": "code",
   "execution_count": null,
   "metadata": {
    "id": "lyvlIti6TIsM"
   },
   "outputs": [],
   "source": [
    "# Uncomment and run the appropriate command for your operating system, if required\n",
    "\n",
    "# Linux / Binder\n",
    "# !pip install numpy matplotlib pandas torch==1.7.0+cpu torchvision==0.8.1+cpu torchaudio==0.7.0 -f https://download.pytorch.org/whl/torch_stable.html\n",
    "\n",
    "# Windows\n",
    "# !pip install numpy matplotlib pandas torch==1.7.0+cpu torchvision==0.8.1+cpu torchaudio==0.7.0 -f https://download.pytorch.org/whl/torch_stable.html\n",
    "\n",
    "# MacOS\n",
    "# !pip install numpy matplotlib pandas torch torchvision torchaudio"
   ]
  },
  {
   "cell_type": "code",
   "execution_count": 2,
   "metadata": {
    "id": "KQQitUAITIsN"
   },
   "outputs": [],
   "source": [
    "import torch\n",
    "# import jovian\n",
    "import torchvision\n",
    "import torch.nn as nn\n",
    "import pandas as pd\n",
    "import matplotlib.pyplot as plt\n",
    "import torch.nn.functional as F\n",
    "from torchvision.datasets.utils import download_url\n",
    "from torch.utils.data import DataLoader, TensorDataset, random_split"
   ]
  },
  {
   "cell_type": "code",
   "execution_count": 3,
   "metadata": {
    "id": "DhnbZOdoTIsO"
   },
   "outputs": [],
   "source": [
    "project_name='02-insurance-linear-regression' # will be used by jovian.commit"
   ]
  },
  {
   "cell_type": "markdown",
   "metadata": {
    "id": "2fuUTvOZTIsO"
   },
   "source": [
    "## Step 1: Download and explore the data\n",
    "\n",
    "Let us begin by downloading the data. We'll use the `download_url` function from PyTorch to get the data as a CSV (comma-separated values) file. "
   ]
  },
  {
   "cell_type": "code",
   "execution_count": 4,
   "metadata": {
    "_cell_guid": "79c7e3d0-c299-4dcb-8224-4455121ee9b0",
    "_uuid": "d629ff2d2480ee46fbb7e2d37f6b5fab8052498a",
    "colab": {
     "base_uri": "https://localhost:8080/",
     "height": 66,
     "referenced_widgets": [
      "2686a076a32049599d74f57c3ba980d1",
      "6a05df7a51454cb8a414ef0cd2ff79d0",
      "36554fa844774dba9a8f8a395477335b",
      "a486bb0f363f4212855ff2b9ef56cdf0",
      "60f607dd9cce4ed2bcb2b9273b932312",
      "167c20daed8b443c8b29e9e72d9f760f",
      "d5b7845f344543518dbadf5942ed6fdf",
      "84b8ecddb56343a5a7f7b09e85312571"
     ]
    },
    "id": "dG15axxVTIsO",
    "outputId": "afb50fe6-84f7-4dfd-b570-cfb6120bb5e1"
   },
   "outputs": [
    {
     "name": "stdout",
     "output_type": "stream",
     "text": [
      "Downloading https://hub.jovian.ml/wp-content/uploads/2020/05/insurance.csv to ./insurance.csv\n"
     ]
    },
    {
     "data": {
      "application/vnd.jupyter.widget-view+json": {
       "model_id": "2686a076a32049599d74f57c3ba980d1",
       "version_major": 2,
       "version_minor": 0
      },
      "text/plain": [
       "HBox(children=(FloatProgress(value=1.0, bar_style='info', max=1.0), HTML(value='')))"
      ]
     },
     "metadata": {
      "tags": []
     },
     "output_type": "display_data"
    }
   ],
   "source": [
    "DATASET_URL = \"https://hub.jovian.ml/wp-content/uploads/2020/05/insurance.csv\"\n",
    "DATA_FILENAME = \"insurance.csv\"\n",
    "download_url(DATASET_URL, '.')"
   ]
  },
  {
   "cell_type": "markdown",
   "metadata": {
    "id": "J7TimJPETIsQ"
   },
   "source": [
    "To load the dataset into memory, we'll use the `read_csv` function from the `pandas` library. The data will be loaded as a Pandas dataframe. See this short tutorial to learn more: https://data36.com/pandas-tutorial-1-basics-reading-data-files-dataframes-data-selection/"
   ]
  },
  {
   "cell_type": "code",
   "execution_count": 5,
   "metadata": {
    "colab": {
     "base_uri": "https://localhost:8080/",
     "height": 204
    },
    "id": "ru3LFpi_TIsQ",
    "outputId": "8e89f1f3-5414-4210-9a74-00393c1f1ec8"
   },
   "outputs": [
    {
     "data": {
      "text/html": [
       "<div>\n",
       "<style scoped>\n",
       "    .dataframe tbody tr th:only-of-type {\n",
       "        vertical-align: middle;\n",
       "    }\n",
       "\n",
       "    .dataframe tbody tr th {\n",
       "        vertical-align: top;\n",
       "    }\n",
       "\n",
       "    .dataframe thead th {\n",
       "        text-align: right;\n",
       "    }\n",
       "</style>\n",
       "<table border=\"1\" class=\"dataframe\">\n",
       "  <thead>\n",
       "    <tr style=\"text-align: right;\">\n",
       "      <th></th>\n",
       "      <th>age</th>\n",
       "      <th>sex</th>\n",
       "      <th>bmi</th>\n",
       "      <th>children</th>\n",
       "      <th>smoker</th>\n",
       "      <th>region</th>\n",
       "      <th>charges</th>\n",
       "    </tr>\n",
       "  </thead>\n",
       "  <tbody>\n",
       "    <tr>\n",
       "      <th>0</th>\n",
       "      <td>19</td>\n",
       "      <td>female</td>\n",
       "      <td>27.900</td>\n",
       "      <td>0</td>\n",
       "      <td>yes</td>\n",
       "      <td>southwest</td>\n",
       "      <td>16884.92400</td>\n",
       "    </tr>\n",
       "    <tr>\n",
       "      <th>1</th>\n",
       "      <td>18</td>\n",
       "      <td>male</td>\n",
       "      <td>33.770</td>\n",
       "      <td>1</td>\n",
       "      <td>no</td>\n",
       "      <td>southeast</td>\n",
       "      <td>1725.55230</td>\n",
       "    </tr>\n",
       "    <tr>\n",
       "      <th>2</th>\n",
       "      <td>28</td>\n",
       "      <td>male</td>\n",
       "      <td>33.000</td>\n",
       "      <td>3</td>\n",
       "      <td>no</td>\n",
       "      <td>southeast</td>\n",
       "      <td>4449.46200</td>\n",
       "    </tr>\n",
       "    <tr>\n",
       "      <th>3</th>\n",
       "      <td>33</td>\n",
       "      <td>male</td>\n",
       "      <td>22.705</td>\n",
       "      <td>0</td>\n",
       "      <td>no</td>\n",
       "      <td>northwest</td>\n",
       "      <td>21984.47061</td>\n",
       "    </tr>\n",
       "    <tr>\n",
       "      <th>4</th>\n",
       "      <td>32</td>\n",
       "      <td>male</td>\n",
       "      <td>28.880</td>\n",
       "      <td>0</td>\n",
       "      <td>no</td>\n",
       "      <td>northwest</td>\n",
       "      <td>3866.85520</td>\n",
       "    </tr>\n",
       "  </tbody>\n",
       "</table>\n",
       "</div>"
      ],
      "text/plain": [
       "   age     sex     bmi  children smoker     region      charges\n",
       "0   19  female  27.900         0    yes  southwest  16884.92400\n",
       "1   18    male  33.770         1     no  southeast   1725.55230\n",
       "2   28    male  33.000         3     no  southeast   4449.46200\n",
       "3   33    male  22.705         0     no  northwest  21984.47061\n",
       "4   32    male  28.880         0     no  northwest   3866.85520"
      ]
     },
     "execution_count": 5,
     "metadata": {
      "tags": []
     },
     "output_type": "execute_result"
    }
   ],
   "source": [
    "dataframe_raw = pd.read_csv(DATA_FILENAME)\n",
    "dataframe_raw.head()"
   ]
  },
  {
   "cell_type": "markdown",
   "metadata": {
    "id": "O0ax7Hz9TIsR"
   },
   "source": [
    "We're going to do a slight customization of the data, so that you every participant receives a slightly different version of the dataset. Fill in your name below as a string (enter at least 5 characters)"
   ]
  },
  {
   "cell_type": "code",
   "execution_count": 94,
   "metadata": {
    "id": "_AuvDs9WTIsR"
   },
   "outputs": [],
   "source": [
    "your_name = 'yuksel' # at least 5 characters"
   ]
  },
  {
   "cell_type": "markdown",
   "metadata": {
    "id": "C_9lOjtlTIsR"
   },
   "source": [
    "The `customize_dataset` function will customize the dataset slightly using your name as a source of random numbers."
   ]
  },
  {
   "cell_type": "code",
   "execution_count": 95,
   "metadata": {
    "id": "6gpFZvBfTIsS"
   },
   "outputs": [],
   "source": [
    "def customize_dataset(dataframe_raw, rand_str):\n",
    "    dataframe = dataframe_raw.copy(deep=True)\n",
    "    # drop some rows\n",
    "    dataframe = dataframe.sample(int(0.95*len(dataframe)), random_state=int(ord(rand_str[0])))\n",
    "    # scale input\n",
    "    dataframe.bmi = dataframe.bmi * ord(rand_str[1])/100.\n",
    "    # scale target\n",
    "    dataframe.charges = dataframe.charges * ord(rand_str[2])/100.\n",
    "    # drop column\n",
    "    if ord(rand_str[3]) % 2 == 1:\n",
    "        dataframe = dataframe.drop(['region'], axis=1)\n",
    "    return dataframe"
   ]
  },
  {
   "cell_type": "code",
   "execution_count": 96,
   "metadata": {
    "colab": {
     "base_uri": "https://localhost:8080/",
     "height": 204
    },
    "id": "C4kATGvCTIsS",
    "outputId": "5ff44062-dbb4-4108-9999-ca4ea75f3612"
   },
   "outputs": [
    {
     "data": {
      "text/html": [
       "<div>\n",
       "<style scoped>\n",
       "    .dataframe tbody tr th:only-of-type {\n",
       "        vertical-align: middle;\n",
       "    }\n",
       "\n",
       "    .dataframe tbody tr th {\n",
       "        vertical-align: top;\n",
       "    }\n",
       "\n",
       "    .dataframe thead th {\n",
       "        text-align: right;\n",
       "    }\n",
       "</style>\n",
       "<table border=\"1\" class=\"dataframe\">\n",
       "  <thead>\n",
       "    <tr style=\"text-align: right;\">\n",
       "      <th></th>\n",
       "      <th>age</th>\n",
       "      <th>sex</th>\n",
       "      <th>bmi</th>\n",
       "      <th>children</th>\n",
       "      <th>smoker</th>\n",
       "      <th>charges</th>\n",
       "    </tr>\n",
       "  </thead>\n",
       "  <tbody>\n",
       "    <tr>\n",
       "      <th>644</th>\n",
       "      <td>43</td>\n",
       "      <td>male</td>\n",
       "      <td>41.31270</td>\n",
       "      <td>2</td>\n",
       "      <td>no</td>\n",
       "      <td>20122.575653</td>\n",
       "    </tr>\n",
       "    <tr>\n",
       "      <th>156</th>\n",
       "      <td>48</td>\n",
       "      <td>male</td>\n",
       "      <td>28.57140</td>\n",
       "      <td>0</td>\n",
       "      <td>yes</td>\n",
       "      <td>22709.333106</td>\n",
       "    </tr>\n",
       "    <tr>\n",
       "      <th>15</th>\n",
       "      <td>19</td>\n",
       "      <td>male</td>\n",
       "      <td>28.78200</td>\n",
       "      <td>1</td>\n",
       "      <td>no</td>\n",
       "      <td>1965.843590</td>\n",
       "    </tr>\n",
       "    <tr>\n",
       "      <th>432</th>\n",
       "      <td>42</td>\n",
       "      <td>male</td>\n",
       "      <td>31.47300</td>\n",
       "      <td>0</td>\n",
       "      <td>no</td>\n",
       "      <td>6387.603610</td>\n",
       "    </tr>\n",
       "    <tr>\n",
       "      <th>20</th>\n",
       "      <td>60</td>\n",
       "      <td>female</td>\n",
       "      <td>42.12585</td>\n",
       "      <td>0</td>\n",
       "      <td>no</td>\n",
       "      <td>14154.866237</td>\n",
       "    </tr>\n",
       "  </tbody>\n",
       "</table>\n",
       "</div>"
      ],
      "text/plain": [
       "     age     sex       bmi  children smoker       charges\n",
       "644   43    male  41.31270         2     no  20122.575653\n",
       "156   48    male  28.57140         0    yes  22709.333106\n",
       "15    19    male  28.78200         1     no   1965.843590\n",
       "432   42    male  31.47300         0     no   6387.603610\n",
       "20    60  female  42.12585         0     no  14154.866237"
      ]
     },
     "execution_count": 96,
     "metadata": {
      "tags": []
     },
     "output_type": "execute_result"
    }
   ],
   "source": [
    "dataframe = customize_dataset(dataframe_raw, your_name)\n",
    "dataframe.head()"
   ]
  },
  {
   "cell_type": "markdown",
   "metadata": {
    "id": "KrNkdpnCTIsT"
   },
   "source": [
    "Let us answer some basic questions about the dataset. \n",
    "\n",
    "\n",
    "**Q: How many rows does the dataset have?**"
   ]
  },
  {
   "cell_type": "code",
   "execution_count": 97,
   "metadata": {
    "colab": {
     "base_uri": "https://localhost:8080/"
    },
    "id": "Gzz6BFEATIsT",
    "outputId": "73a4c022-a59a-4771-ffff-46e800e7f6f3"
   },
   "outputs": [
    {
     "name": "stdout",
     "output_type": "stream",
     "text": [
      "1271\n"
     ]
    }
   ],
   "source": [
    "num_rows = len(dataframe)\n",
    "print(num_rows)"
   ]
  },
  {
   "cell_type": "markdown",
   "metadata": {
    "id": "KELyIqG0TIsT"
   },
   "source": [
    "**Q: How many columns doe the dataset have**"
   ]
  },
  {
   "cell_type": "code",
   "execution_count": 98,
   "metadata": {
    "colab": {
     "base_uri": "https://localhost:8080/"
    },
    "id": "Luj9GKeeTIsT",
    "outputId": "8cdfa955-28e8-46be-d91c-99e1208f0a9c"
   },
   "outputs": [
    {
     "name": "stdout",
     "output_type": "stream",
     "text": [
      "6\n"
     ]
    }
   ],
   "source": [
    "num_cols = len(dataframe.columns)\n",
    "print(num_cols)"
   ]
  },
  {
   "cell_type": "markdown",
   "metadata": {
    "id": "C2RMFnymTIsU"
   },
   "source": [
    "**Q: What are the column titles of the input variables?**"
   ]
  },
  {
   "cell_type": "code",
   "execution_count": 99,
   "metadata": {
    "colab": {
     "base_uri": "https://localhost:8080/"
    },
    "id": "Tr7vK6JHTIsU",
    "outputId": "bb1bca56-4a74-4067-a7f5-81569f9e14e4"
   },
   "outputs": [
    {
     "data": {
      "text/plain": [
       "Index(['age', 'sex', 'bmi', 'children', 'smoker', 'charges'], dtype='object')"
      ]
     },
     "execution_count": 99,
     "metadata": {
      "tags": []
     },
     "output_type": "execute_result"
    }
   ],
   "source": [
    "input_cols = dataframe.columns\n",
    "input_cols"
   ]
  },
  {
   "cell_type": "markdown",
   "metadata": {
    "id": "83xKdJu3TIsU"
   },
   "source": [
    "**Q: Which of the input columns are non-numeric or categorial variables ?**\n",
    "\n",
    "Hint: `sex` is one of them. List the columns that are not numbers."
   ]
  },
  {
   "cell_type": "code",
   "execution_count": 100,
   "metadata": {
    "colab": {
     "base_uri": "https://localhost:8080/"
    },
    "id": "qzVgoP77TIsU",
    "outputId": "c97d496f-f1fb-4e5a-e2f1-b05e43a41953"
   },
   "outputs": [
    {
     "data": {
      "text/plain": [
       "Index(['sex', 'smoker'], dtype='object')"
      ]
     },
     "execution_count": 100,
     "metadata": {
      "tags": []
     },
     "output_type": "execute_result"
    }
   ],
   "source": [
    "categorical_cols = dataframe.select_dtypes(include=object).columns\n",
    "categorical_cols"
   ]
  },
  {
   "cell_type": "markdown",
   "metadata": {
    "id": "qhTHGcj7TIsV"
   },
   "source": [
    "**Q: What are the column titles of output/target variable(s)?**"
   ]
  },
  {
   "cell_type": "code",
   "execution_count": 101,
   "metadata": {
    "colab": {
     "base_uri": "https://localhost:8080/"
    },
    "id": "JJvHTbhqTIsV",
    "outputId": "9b75d006-82b7-4775-f6e1-cc1c37d88857"
   },
   "outputs": [
    {
     "data": {
      "text/plain": [
       "['charges']"
      ]
     },
     "execution_count": 101,
     "metadata": {
      "tags": []
     },
     "output_type": "execute_result"
    }
   ],
   "source": [
    "output_cols = [dataframe.columns[-1]]\n",
    "output_cols"
   ]
  },
  {
   "cell_type": "markdown",
   "metadata": {
    "id": "EnNbmSCSTIsV"
   },
   "source": [
    "**Q: (Optional) What is the minimum, maximum and average value of the `charges` column? Can you show the distribution of values in a graph?**\n",
    "Use this data visualization cheatsheet for referece: https://jovian.ml/aakashns/dataviz-cheatsheet"
   ]
  },
  {
   "cell_type": "code",
   "execution_count": 102,
   "metadata": {
    "colab": {
     "base_uri": "https://localhost:8080/",
     "height": 522
    },
    "id": "Xep2haF_TIsV",
    "outputId": "70198193-0ac5-4fd1-b2f8-aaf0b7863d1f"
   },
   "outputs": [
    {
     "name": "stdout",
     "output_type": "stream",
     "text": [
      "            charges\n",
      "count   1271.000000\n",
      "mean   14304.944161\n",
      "std    13007.302380\n",
      "min     1200.405073\n",
      "25%     5085.018138\n",
      "50%    10169.612021\n",
      "75%    18256.565449\n",
      "max    68234.357971\n"
     ]
    },
    {
     "data": {
      "image/png": "[encoded data removed]",
      "text/plain": [
       "<Figure size 360x360 with 1 Axes>"
      ]
     },
     "metadata": {
      "needs_background": "light",
      "tags": []
     },
     "output_type": "display_data"
    }
   ],
   "source": [
    "import seaborn as sns\n",
    "print(dataframe[output_cols].describe())\n",
    "sns.displot(dataframe, x=output_cols[0]);"
   ]
  },
  {
   "cell_type": "markdown",
   "metadata": {
    "id": "pbrQ50bwTIsW"
   },
   "source": [
    "Remember to commit your notebook to Jovian after every step, so that you don't lose your work."
   ]
  },
  {
   "cell_type": "code",
   "execution_count": null,
   "metadata": {
    "id": "9B6MPJCSTIsW"
   },
   "outputs": [],
   "source": [
    "!pip install jovian --upgrade -q"
   ]
  },
  {
   "cell_type": "code",
   "execution_count": null,
   "metadata": {
    "id": "W_DMrkmfTIsW"
   },
   "outputs": [],
   "source": [
    "import jovian"
   ]
  },
  {
   "cell_type": "code",
   "execution_count": null,
   "metadata": {
    "id": "j-n4CLJsTIsW",
    "outputId": "737ae9d7-3687-4f26-e64e-851dacf2e755"
   },
   "outputs": [
    {
     "data": {
      "application/javascript": [
       "window.require && require([\"base/js/namespace\"],function(Jupyter){Jupyter.notebook.save_checkpoint()})"
      ],
      "text/plain": [
       "<IPython.core.display.Javascript object>"
      ]
     },
     "metadata": {
      "tags": []
     },
     "output_type": "display_data"
    },
    {
     "name": "stdout",
     "output_type": "stream",
     "text": [
      "[jovian] Attempting to save notebook..\u001b[0m\n",
      "[jovian] Updating notebook \"aakashns/02-insurance-linear-regression\" on https://jovian.ai/\u001b[0m\n",
      "[jovian] Uploading notebook..\u001b[0m\n",
      "[jovian] Capturing environment..\u001b[0m\n",
      "[jovian] Committed successfully! https://jovian.ai/aakashns/02-insurance-linear-regression\u001b[0m\n"
     ]
    },
    {
     "data": {
      "text/plain": [
       "'https://jovian.ai/aakashns/02-insurance-linear-regression'"
      ]
     },
     "execution_count": 10,
     "metadata": {
      "tags": []
     },
     "output_type": "execute_result"
    }
   ],
   "source": [
    "jovian.commit()"
   ]
  },
  {
   "cell_type": "markdown",
   "metadata": {
    "id": "eSAntsHCTIsW"
   },
   "source": [
    "## Step 2: Prepare the dataset for training\n",
    "\n",
    "We need to convert the data from the Pandas dataframe into a PyTorch tensors for training. To do this, the first step is to convert it numpy arrays. If you've filled out `input_cols`, `categorial_cols` and `output_cols` correctly, this following function will perform the conversion to numpy arrays."
   ]
  },
  {
   "cell_type": "code",
   "execution_count": 103,
   "metadata": {
    "id": "bJD1_Eg8TIsX"
   },
   "outputs": [],
   "source": [
    "def dataframe_to_arrays(dataframe):\n",
    "    # Make a copy of the original dataframe\n",
    "    dataframe1 = dataframe.copy(deep=True)\n",
    "    # Convert non-numeric categorical columns to numbers\n",
    "    for col in categorical_cols:\n",
    "        dataframe1[col] = dataframe1[col].astype('category').cat.codes\n",
    "    # Extract input & outupts as numpy arrays\n",
    "    inputs_array = dataframe1[input_cols].to_numpy()\n",
    "    targets_array = dataframe1[output_cols].to_numpy()\n",
    "    return inputs_array, targets_array"
   ]
  },
  {
   "cell_type": "markdown",
   "metadata": {
    "id": "MeBgLjkcTIsX"
   },
   "source": [
    "Read through the [Pandas documentation](https://pandas.pydata.org/pandas-docs/stable/user_guide/categorical.html) to understand how we're converting categorical variables into numbers."
   ]
  },
  {
   "cell_type": "code",
   "execution_count": 104,
   "metadata": {
    "colab": {
     "base_uri": "https://localhost:8080/"
    },
    "id": "nnPEzWNvTIsY",
    "outputId": "5b97e1fc-7a2c-4993-c2ce-ae34122757ce"
   },
   "outputs": [
    {
     "data": {
      "text/plain": [
       "(array([[4.30000000e+01, 1.00000000e+00, 4.13127000e+01, 2.00000000e+00,\n",
       "         0.00000000e+00, 2.01225757e+04],\n",
       "        [4.80000000e+01, 1.00000000e+00, 2.85714000e+01, 0.00000000e+00,\n",
       "         1.00000000e+00, 2.27093331e+04],\n",
       "        [1.90000000e+01, 1.00000000e+00, 2.87820000e+01, 1.00000000e+00,\n",
       "         0.00000000e+00, 1.96584359e+03],\n",
       "        ...,\n",
       "        [3.70000000e+01, 0.00000000e+00, 2.98993500e+01, 1.00000000e+00,\n",
       "         1.00000000e+00, 2.17176439e+04],\n",
       "        [5.90000000e+01, 0.00000000e+00, 3.10108500e+01, 0.00000000e+00,\n",
       "         0.00000000e+00, 1.37125261e+04],\n",
       "        [5.00000000e+01, 0.00000000e+00, 5.23516500e+01, 0.00000000e+00,\n",
       "         0.00000000e+00, 1.02096142e+04]]), array([[20122.5756529],\n",
       "        [22709.333106 ],\n",
       "        [ 1965.84359  ],\n",
       "        ...,\n",
       "        [21717.6438915],\n",
       "        [13712.5260965],\n",
       "        [10209.6142385]]))"
      ]
     },
     "execution_count": 104,
     "metadata": {
      "tags": []
     },
     "output_type": "execute_result"
    }
   ],
   "source": [
    "inputs_array, targets_array = dataframe_to_arrays(dataframe)\n",
    "inputs_array, targets_array"
   ]
  },
  {
   "cell_type": "markdown",
   "metadata": {
    "id": "eDmq9nwtTIsY"
   },
   "source": [
    "**Q: Convert the numpy arrays `inputs_array` and `targets_array` into PyTorch tensors. Make sure that the data type is `torch.float32`.**"
   ]
  },
  {
   "cell_type": "code",
   "execution_count": 105,
   "metadata": {
    "id": "LjstOQwXTIsY"
   },
   "outputs": [],
   "source": [
    "inputs = torch.tensor(inputs_array, dtype=torch.float32)\n",
    "targets = torch.tensor(targets_array, dtype=torch.float32)"
   ]
  },
  {
   "cell_type": "code",
   "execution_count": 106,
   "metadata": {
    "colab": {
     "base_uri": "https://localhost:8080/"
    },
    "id": "tnU6ntIdTIsY",
    "outputId": "49114b5d-7f18-486a-df15-0f87dcc685a0"
   },
   "outputs": [
    {
     "data": {
      "text/plain": [
       "(torch.float32, torch.float32)"
      ]
     },
     "execution_count": 106,
     "metadata": {
      "tags": []
     },
     "output_type": "execute_result"
    }
   ],
   "source": [
    "inputs.dtype, targets.dtype"
   ]
  },
  {
   "cell_type": "markdown",
   "metadata": {
    "id": "xV9MRYx2TIsZ"
   },
   "source": [
    "Next, we need to create PyTorch datasets & data loaders for training & validation. We'll start by creating a `TensorDataset`."
   ]
  },
  {
   "cell_type": "code",
   "execution_count": 107,
   "metadata": {
    "id": "oOmQShI6TIsZ"
   },
   "outputs": [],
   "source": [
    "dataset = TensorDataset(inputs, targets)"
   ]
  },
  {
   "cell_type": "markdown",
   "metadata": {
    "id": "q7Tt_kv7TIsZ"
   },
   "source": [
    "**Q: Pick a number between `0.1` and `0.2` to determine the fraction of data that will be used for creating the validation set. Then use `random_split` to create training & validation datasets.**"
   ]
  },
  {
   "cell_type": "code",
   "execution_count": 108,
   "metadata": {
    "id": "jInJ5NbfTIsZ"
   },
   "outputs": [],
   "source": [
    "val_percent = 0.2 # between 0.1 and 0.2\n",
    "val_size = int(num_rows * val_percent)\n",
    "train_size = num_rows - val_size\n",
    "\n",
    "\n",
    "train_ds, val_ds = random_split(dataset, [train_size, val_size]) # Use the random_split function to split dataset into 2 parts of the desired length"
   ]
  },
  {
   "cell_type": "markdown",
   "metadata": {
    "id": "4tCm7OGnTIsa"
   },
   "source": [
    "Finally, we can create data loaders for training & validation.\n",
    "\n",
    "**Q: Pick a batch size for the data loader.**"
   ]
  },
  {
   "cell_type": "code",
   "execution_count": 109,
   "metadata": {
    "id": "SAl7vjIDTIsa"
   },
   "outputs": [],
   "source": [
    "batch_size = 64"
   ]
  },
  {
   "cell_type": "code",
   "execution_count": 110,
   "metadata": {
    "id": "NWOzjcPxTIsa"
   },
   "outputs": [],
   "source": [
    "train_loader = DataLoader(train_ds, batch_size, shuffle=True)\n",
    "val_loader = DataLoader(val_ds, batch_size)"
   ]
  },
  {
   "cell_type": "markdown",
   "metadata": {
    "id": "v9nHkg9mTIsa"
   },
   "source": [
    "Let's look at a batch of data to verify everything is working fine so far."
   ]
  },
  {
   "cell_type": "code",
   "execution_count": 111,
   "metadata": {
    "colab": {
     "base_uri": "https://localhost:8080/"
    },
    "id": "6U2nBPZeTIsa",
    "outputId": "feb5b38e-a84a-430c-e57c-b101aefdfe66"
   },
   "outputs": [
    {
     "name": "stdout",
     "output_type": "stream",
     "text": [
      "inputs: tensor([[3.2000e+01, 0.0000e+00, 2.4008e+01, 0.0000e+00, 0.0000e+00, 4.8623e+03],\n",
      "        [5.0000e+01, 1.0000e+00, 4.3372e+01, 1.0000e+00, 0.0000e+00, 9.6814e+03],\n",
      "        [1.9000e+01, 1.0000e+00, 3.5790e+01, 0.0000e+00, 0.0000e+00, 1.7543e+03],\n",
      "        [1.8000e+01, 1.0000e+00, 2.5120e+01, 0.0000e+00, 0.0000e+00, 1.8216e+03],\n",
      "        [1.9000e+01, 1.0000e+00, 3.2567e+01, 0.0000e+00, 0.0000e+00, 1.7502e+03],\n",
      "        [5.3000e+01, 0.0000e+00, 4.4530e+01, 3.0000e+00, 0.0000e+00, 2.1895e+04],\n",
      "        [3.6000e+01, 1.0000e+00, 4.0283e+01, 2.0000e+00, 0.0000e+00, 5.9752e+03],\n",
      "        [5.5000e+01, 0.0000e+00, 2.9677e+01, 3.0000e+00, 0.0000e+00, 1.3961e+04],\n",
      "        [6.4000e+01, 1.0000e+00, 4.4682e+01, 0.0000e+00, 0.0000e+00, 1.5420e+04],\n",
      "        [2.5000e+01, 1.0000e+00, 3.1356e+01, 3.0000e+00, 0.0000e+00, 4.1796e+03],\n",
      "        [3.6000e+01, 0.0000e+00, 3.2456e+01, 0.0000e+00, 0.0000e+00, 5.8518e+03],\n",
      "        [5.6000e+01, 0.0000e+00, 3.3123e+01, 0.0000e+00, 0.0000e+00, 1.2474e+04],\n",
      "        [4.8000e+01, 1.0000e+00, 3.4749e+01, 0.0000e+00, 0.0000e+00, 8.3349e+03],\n",
      "        [1.9000e+01, 1.0000e+00, 2.9899e+01, 0.0000e+00, 0.0000e+00, 1.7468e+03],\n",
      "        [4.2000e+01, 1.0000e+00, 3.0566e+01, 2.0000e+00, 0.0000e+00, 8.2707e+03],\n",
      "        [3.8000e+01, 0.0000e+00, 3.2760e+01, 3.0000e+00, 0.0000e+00, 7.6517e+03],\n",
      "        [4.4000e+01, 0.0000e+00, 3.7838e+01, 1.0000e+00, 0.0000e+00, 8.1681e+03],\n",
      "        [3.0000e+01, 1.0000e+00, 2.8232e+01, 1.0000e+00, 0.0000e+00, 4.3145e+03],\n",
      "        [5.3000e+01, 0.0000e+00, 4.3126e+01, 3.0000e+00, 1.0000e+00, 4.9928e+04],\n",
      "        [5.7000e+01, 1.0000e+00, 4.7906e+01, 0.0000e+00, 0.0000e+00, 1.2376e+04],\n",
      "        [1.8000e+01, 1.0000e+00, 2.9788e+01, 0.0000e+00, 0.0000e+00, 1.8276e+03],\n",
      "        [3.3000e+01, 1.0000e+00, 2.8788e+01, 2.0000e+00, 0.0000e+00, 5.6255e+03],\n",
      "        [5.6000e+01, 1.0000e+00, 2.5857e+01, 0.0000e+00, 0.0000e+00, 1.1317e+04],\n",
      "        [2.9000e+01, 1.0000e+00, 3.7124e+01, 2.0000e+00, 0.0000e+00, 4.7437e+03],\n",
      "        [2.2000e+01, 1.0000e+00, 3.9511e+01, 0.0000e+00, 0.0000e+00, 1.7919e+03],\n",
      "        [2.7000e+01, 1.0000e+00, 3.5685e+01, 0.0000e+00, 0.0000e+00, 2.6686e+03],\n",
      "        [1.8000e+01, 1.0000e+00, 3.8996e+01, 0.0000e+00, 0.0000e+00, 1.2155e+03],\n",
      "        [4.1000e+01, 0.0000e+00, 3.8569e+01, 0.0000e+00, 0.0000e+00, 7.0310e+03],\n",
      "        [2.3000e+01, 1.0000e+00, 4.1184e+01, 1.0000e+00, 0.0000e+00, 2.5861e+03],\n",
      "        [2.9000e+01, 0.0000e+00, 3.6457e+01, 0.0000e+00, 0.0000e+00, 4.2196e+03],\n",
      "        [3.5000e+01, 0.0000e+00, 3.2789e+01, 0.0000e+00, 1.0000e+00, 2.1651e+04],\n",
      "        [3.4000e+01, 0.0000e+00, 3.2432e+01, 0.0000e+00, 0.0000e+00, 4.7242e+03],\n",
      "        [1.8000e+01, 1.0000e+00, 1.8673e+01, 0.0000e+00, 0.0000e+00, 1.8134e+03],\n",
      "        [3.0000e+01, 0.0000e+00, 3.2409e+01, 0.0000e+00, 0.0000e+00, 3.8030e+03],\n",
      "        [5.3000e+01, 0.0000e+00, 2.9010e+01, 1.0000e+00, 0.0000e+00, 1.1708e+04],\n",
      "        [6.4000e+01, 0.0000e+00, 3.8569e+01, 0.0000e+00, 0.0000e+00, 1.5721e+04],\n",
      "        [4.3000e+01, 1.0000e+00, 3.8142e+01, 2.0000e+00, 0.0000e+00, 7.9624e+03],\n",
      "        [4.2000e+01, 0.0000e+00, 3.3930e+01, 1.0000e+00, 0.0000e+00, 7.5442e+03],\n",
      "        [5.6000e+01, 0.0000e+00, 3.1824e+01, 0.0000e+00, 0.0000e+00, 1.1848e+04],\n",
      "        [1.9000e+01, 0.0000e+00, 4.3793e+01, 0.0000e+00, 0.0000e+00, 2.2877e+03],\n",
      "        [6.3000e+01, 1.0000e+00, 4.1055e+01, 0.0000e+00, 1.0000e+00, 5.0349e+04],\n",
      "        [5.9000e+01, 0.0000e+00, 3.2432e+01, 3.0000e+00, 0.0000e+00, 1.4981e+04],\n",
      "        [6.0000e+01, 1.0000e+00, 4.7876e+01, 0.0000e+00, 1.0000e+00, 5.2081e+04],\n",
      "        [6.0000e+01, 0.0000e+00, 2.1452e+01, 0.0000e+00, 0.0000e+00, 1.4129e+04],\n",
      "        [4.0000e+01, 1.0000e+00, 3.8347e+01, 1.0000e+00, 1.0000e+00, 4.1864e+04],\n",
      "        [4.4000e+01, 1.0000e+00, 4.4530e+01, 1.0000e+00, 0.0000e+00, 7.6534e+03],\n",
      "        [3.4000e+01, 1.0000e+00, 2.9601e+01, 2.0000e+00, 1.0000e+00, 2.0301e+04],\n",
      "        [6.3000e+01, 0.0000e+00, 3.2456e+01, 0.0000e+00, 1.0000e+00, 3.1590e+04],\n",
      "        [3.4000e+01, 1.0000e+00, 3.2567e+01, 1.0000e+00, 1.0000e+00, 2.1410e+04],\n",
      "        [3.4000e+01, 0.0000e+00, 4.3682e+01, 2.0000e+00, 0.0000e+00, 6.4088e+03],\n",
      "        [6.2000e+01, 0.0000e+00, 2.9250e+01, 0.0000e+00, 0.0000e+00, 1.4393e+04],\n",
      "        [6.0000e+01, 1.0000e+00, 2.8454e+01, 1.0000e+00, 0.0000e+00, 1.4030e+04],\n",
      "        [5.4000e+01, 1.0000e+00, 4.7461e+01, 3.0000e+00, 1.0000e+00, 5.1948e+04],\n",
      "        [5.1000e+01, 1.0000e+00, 3.2456e+01, 1.0000e+00, 0.0000e+00, 1.0655e+04],\n",
      "        [3.4000e+01, 0.0000e+00, 2.7565e+01, 0.0000e+00, 0.0000e+00, 5.3418e+03],\n",
      "        [5.5000e+01, 1.0000e+00, 3.8347e+01, 0.0000e+00, 0.0000e+00, 1.1344e+04],\n",
      "        [2.2000e+01, 1.0000e+00, 3.7569e+01, 0.0000e+00, 0.0000e+00, 2.1992e+03],\n",
      "        [3.8000e+01, 0.0000e+00, 3.1900e+01, 1.0000e+00, 0.0000e+00, 7.0139e+03],\n",
      "        [6.2000e+01, 0.0000e+00, 3.8569e+01, 3.0000e+00, 0.0000e+00, 1.6705e+04],\n",
      "        [2.4000e+01, 1.0000e+00, 3.8259e+01, 0.0000e+00, 1.0000e+00, 3.6886e+04],\n",
      "        [5.1000e+01, 0.0000e+00, 3.0186e+01, 1.0000e+00, 0.0000e+00, 1.0551e+04],\n",
      "        [5.2000e+01, 0.0000e+00, 2.1452e+01, 0.0000e+00, 0.0000e+00, 1.0690e+04],\n",
      "        [6.4000e+01, 0.0000e+00, 3.1455e+01, 0.0000e+00, 1.0000e+00, 3.1384e+04],\n",
      "        [2.5000e+01, 0.0000e+00, 2.8431e+01, 3.0000e+00, 0.0000e+00, 4.6991e+03]])\n",
      "targets: tensor([[ 4862.3311],\n",
      "        [ 9681.3896],\n",
      "        [ 1754.3325],\n",
      "        [ 1821.6272],\n",
      "        [ 1750.2350],\n",
      "        [21895.4082],\n",
      "        [ 5975.2070],\n",
      "        [13960.6455],\n",
      "        [15419.6973],\n",
      "        [ 4179.5557],\n",
      "        [ 5851.8369],\n",
      "        [12473.7588],\n",
      "        [ 8334.9092],\n",
      "        [ 1746.8440],\n",
      "        [ 8270.7207],\n",
      "        [ 7651.6685],\n",
      "        [ 8168.0811],\n",
      "        [ 4314.4976],\n",
      "        [49927.7422],\n",
      "        [12375.9414],\n",
      "        [ 1827.5615],\n",
      "        [ 5625.5337],\n",
      "        [11317.4834],\n",
      "        [ 4743.7246],\n",
      "        [ 1791.8566],\n",
      "        [ 2668.6035],\n",
      "        [ 1215.4565],\n",
      "        [ 7030.9961],\n",
      "        [ 2586.1418],\n",
      "        [ 4219.6470],\n",
      "        [21651.2949],\n",
      "        [ 4724.2197],\n",
      "        [ 1813.4321],\n",
      "        [ 3802.9973],\n",
      "        [11708.0811],\n",
      "        [15721.1562],\n",
      "        [ 7962.4062],\n",
      "        [ 7544.1870],\n",
      "        [11848.2979],\n",
      "        [ 2287.7356],\n",
      "        [50349.4180],\n",
      "        [14981.2129],\n",
      "        [52080.7070],\n",
      "        [14128.5859],\n",
      "        [41864.1055],\n",
      "        [ 7653.3584],\n",
      "        [20300.5703],\n",
      "        [31589.7871],\n",
      "        [21410.3086],\n",
      "        [ 6408.7905],\n",
      "        [14392.7002],\n",
      "        [14030.4873],\n",
      "        [51947.6211],\n",
      "        [10654.7617],\n",
      "        [ 5341.8428],\n",
      "        [11343.7461],\n",
      "        [ 2199.1978],\n",
      "        [ 7013.9253],\n",
      "        [16705.0469],\n",
      "        [36885.9414],\n",
      "        [10551.2969],\n",
      "        [10690.4102],\n",
      "        [31384.1523],\n",
      "        [ 4699.0679]])\n"
     ]
    }
   ],
   "source": [
    "for xb, yb in train_loader:\n",
    "    print(\"inputs:\", xb)\n",
    "    print(\"targets:\", yb)\n",
    "    break"
   ]
  },
  {
   "cell_type": "markdown",
   "metadata": {
    "id": "pR1Mg4czTIsb"
   },
   "source": [
    "Let's save our work by committing to Jovian."
   ]
  },
  {
   "cell_type": "code",
   "execution_count": null,
   "metadata": {
    "id": "4yMEYAuzTIsb"
   },
   "outputs": [],
   "source": [
    "jovian.commit(project=project_name, environment=None)"
   ]
  },
  {
   "cell_type": "markdown",
   "metadata": {
    "id": "wRYJzHAiTIsb"
   },
   "source": [
    "## Step 3: Create a Linear Regression Model\n",
    "\n",
    "Our model itself is a fairly straightforward linear regression (we'll build more complex models in the next assignment). \n"
   ]
  },
  {
   "cell_type": "code",
   "execution_count": 112,
   "metadata": {
    "id": "pGslyx2xTIsb"
   },
   "outputs": [],
   "source": [
    "input_size = len(input_cols)\n",
    "output_size = len(output_cols)"
   ]
  },
  {
   "cell_type": "markdown",
   "metadata": {
    "id": "g9m3HHyJTIsb"
   },
   "source": [
    "**Q: Complete the class definition below by filling out the constructor (`__init__`), `forward`, `training_step` and `validation_step` methods.**\n",
    "\n",
    "Hint: Think carefully about picking a good loss fuction (it's not cross entropy). Maybe try 2-3 of them and see which one works best. See https://pytorch.org/docs/stable/nn.functional.html#loss-functions"
   ]
  },
  {
   "cell_type": "code",
   "execution_count": 113,
   "metadata": {
    "id": "RzAB6oOdTIsc"
   },
   "outputs": [],
   "source": [
    "class InsuranceModel(nn.Module):\n",
    "    def __init__(self):\n",
    "        super().__init__()\n",
    "        self.linear = nn.Linear(in_features=input_size, out_features=output_size)     # fill this (hint: use input_size & output_size defined above)\n",
    "        \n",
    "    def forward(self, xb):\n",
    "        out = self.linear(xb)                          # fill this\n",
    "        return out\n",
    "    \n",
    "    def training_step(self, batch):\n",
    "        inputs, targets = batch \n",
    "        # Generate predictions\n",
    "        out = self(inputs)          \n",
    "        # Calcuate loss\n",
    "        loss = F.mse_loss(out, targets)                          # fill this\n",
    "        return loss\n",
    "    \n",
    "    def validation_step(self, batch):\n",
    "        inputs, targets = batch\n",
    "        # Generate predictions\n",
    "        out = self(inputs)\n",
    "        # Calculate loss\n",
    "        loss = F.mse_loss(out, targets)                          # fill this    \n",
    "        return {'val_loss': loss.detach()}\n",
    "        \n",
    "    def validation_epoch_end(self, outputs):\n",
    "        batch_losses = [x['val_loss'] for x in outputs]\n",
    "        epoch_loss = torch.stack(batch_losses).mean()   # Combine losses\n",
    "        return {'val_loss': epoch_loss.item()}\n",
    "    \n",
    "    def epoch_end(self, epoch, result, num_epochs):\n",
    "        # Print result every 20th epoch\n",
    "        if (epoch+1) % 20 == 0 or epoch == num_epochs-1:\n",
    "            print(\"Epoch [{}], val_loss: {:.4f}\".format(epoch+1, result['val_loss']))"
   ]
  },
  {
   "cell_type": "markdown",
   "metadata": {
    "id": "UdJRa7uwTIsc"
   },
   "source": [
    "Let us create a model using the `InsuranceModel` class. You may need to come back later and re-run the next cell to reinitialize the model, in case the loss becomes `nan` or `infinity`."
   ]
  },
  {
   "cell_type": "code",
   "execution_count": 145,
   "metadata": {
    "id": "Y9RquYewTIsd"
   },
   "outputs": [],
   "source": [
    "model = InsuranceModel()"
   ]
  },
  {
   "cell_type": "markdown",
   "metadata": {
    "id": "0tDvxgBvTIsd"
   },
   "source": [
    "Let's check out the weights and biases of the model using `model.parameters`."
   ]
  },
  {
   "cell_type": "code",
   "execution_count": 146,
   "metadata": {
    "colab": {
     "base_uri": "https://localhost:8080/"
    },
    "id": "r9fijsaiTIsd",
    "outputId": "1dbf49ee-1101-4bf4-808a-2b8777b7cc36"
   },
   "outputs": [
    {
     "data": {
      "text/plain": [
       "[Parameter containing:\n",
       " tensor([[-0.0028, -0.2985, -0.3733,  0.1372,  0.2683, -0.1623]],\n",
       "        requires_grad=True), Parameter containing:\n",
       " tensor([-0.1968], requires_grad=True)]"
      ]
     },
     "execution_count": 146,
     "metadata": {
      "tags": []
     },
     "output_type": "execute_result"
    }
   ],
   "source": [
    "list(model.parameters())"
   ]
  },
  {
   "cell_type": "markdown",
   "metadata": {
    "id": "uBwWX9s7TIse"
   },
   "source": [
    "One final commit before we train the model."
   ]
  },
  {
   "cell_type": "code",
   "execution_count": 131,
   "metadata": {
    "colab": {
     "base_uri": "https://localhost:8080/",
     "height": 163
    },
    "id": "_Rp2KRxZTIse",
    "outputId": "4a8cff3f-0bd7-4c87-a6bf-48ab9e9b046f"
   },
   "outputs": [
    {
     "ename": "NameError",
     "evalue": "ignored",
     "output_type": "error",
     "traceback": [
      "\u001b[0;31m---------------------------------------------------------------------------\u001b[0m",
      "\u001b[0;31mNameError\u001b[0m                                 Traceback (most recent call last)",
      "\u001b[0;32m<ipython-input-131-b63f2730202b>\u001b[0m in \u001b[0;36m<module>\u001b[0;34m()\u001b[0m\n\u001b[0;32m----> 1\u001b[0;31m \u001b[0mjovian\u001b[0m\u001b[0;34m.\u001b[0m\u001b[0mcommit\u001b[0m\u001b[0;34m(\u001b[0m\u001b[0mproject\u001b[0m\u001b[0;34m=\u001b[0m\u001b[0mproject_name\u001b[0m\u001b[0;34m,\u001b[0m \u001b[0menvironment\u001b[0m\u001b[0;34m=\u001b[0m\u001b[0;32mNone\u001b[0m\u001b[0;34m)\u001b[0m\u001b[0;34m\u001b[0m\u001b[0;34m\u001b[0m\u001b[0m\n\u001b[0m",
      "\u001b[0;31mNameError\u001b[0m: name 'jovian' is not defined"
     ]
    }
   ],
   "source": [
    "jovian.commit(project=project_name, environment=None)"
   ]
  },
  {
   "cell_type": "markdown",
   "metadata": {
    "id": "xmwdTN9DTIse"
   },
   "source": [
    "## Step 4: Train the model to fit the data\n",
    "\n",
    "To train our model, we'll use the same `fit` function explained in the lecture. That's the benefit of defining a generic training loop - you can use it for any problem."
   ]
  },
  {
   "cell_type": "code",
   "execution_count": 147,
   "metadata": {
    "id": "20RpfBzyTIsf"
   },
   "outputs": [],
   "source": [
    "def evaluate(model, val_loader):\n",
    "    outputs = [model.validation_step(batch) for batch in val_loader]\n",
    "    return model.validation_epoch_end(outputs)\n",
    "\n",
    "def fit(epochs, lr, model, train_loader, val_loader, opt_func=torch.optim.SGD):\n",
    "    history = []\n",
    "    optimizer = opt_func(model.parameters(), lr)\n",
    "    for epoch in range(epochs):\n",
    "        # Training Phase \n",
    "        for batch in train_loader:\n",
    "            loss = model.training_step(batch)\n",
    "            loss.backward()\n",
    "            optimizer.step()\n",
    "            optimizer.zero_grad()\n",
    "        # Validation phase\n",
    "        result = evaluate(model, val_loader)\n",
    "        model.epoch_end(epoch, result, epochs)\n",
    "        history.append(result)\n",
    "    return history"
   ]
  },
  {
   "cell_type": "markdown",
   "metadata": {
    "id": "rV8R2tRCTIsf"
   },
   "source": [
    "**Q: Use the `evaluate` function to calculate the loss on the validation set before training.**"
   ]
  },
  {
   "cell_type": "code",
   "execution_count": 148,
   "metadata": {
    "colab": {
     "base_uri": "https://localhost:8080/"
    },
    "id": "J8M7OrVMTIsf",
    "outputId": "9cafd103-f6ae-4197-8ab4-379c539d4f78"
   },
   "outputs": [
    {
     "name": "stdout",
     "output_type": "stream",
     "text": [
      "{'val_loss': 558650944.0}\n"
     ]
    }
   ],
   "source": [
    "result = evaluate(model, val_loader) # Use the the evaluate function\n",
    "print(result)"
   ]
  },
  {
   "cell_type": "markdown",
   "metadata": {
    "id": "RK7izgGyTIsf"
   },
   "source": [
    "\n",
    "We are now ready to train the model. You may need to run the training loop many times, for different number of epochs and with different learning rates, to get a good result. Also, if your loss becomes too large (or `nan`), you may have to re-initialize the model by running the cell `model = InsuranceModel()`. Experiment with this for a while, and try to get to as low a loss as possible."
   ]
  },
  {
   "cell_type": "markdown",
   "metadata": {
    "id": "iISiiuVmTIsg"
   },
   "source": [
    "**Q: Train the model 4-5 times with different learning rates & for different number of epochs.**\n",
    "\n",
    "Hint: Vary learning rates by orders of 10 (e.g. `1e-2`, `1e-3`, `1e-4`, `1e-5`, `1e-6`) to figure out what works."
   ]
  },
  {
   "cell_type": "code",
   "execution_count": 127,
   "metadata": {
    "colab": {
     "base_uri": "https://localhost:8080/"
    },
    "id": "gCfyrAHTTIsg",
    "outputId": "e1cca639-f7f1-476c-8e30-83aab754ae22"
   },
   "outputs": [
    {
     "name": "stdout",
     "output_type": "stream",
     "text": [
      "Epoch [20], val_loss: 146100352.0000\n",
      "Epoch [40], val_loss: 91708368.0000\n",
      "Epoch [60], val_loss: 57574504.0000\n",
      "Epoch [80], val_loss: 36139768.0000\n",
      "Epoch [100], val_loss: 22684820.0000\n",
      "Epoch [120], val_loss: 14237408.0000\n",
      "Epoch [140], val_loss: 8936130.0000\n",
      "Epoch [160], val_loss: 5610678.0000\n",
      "Epoch [180], val_loss: 3523059.0000\n",
      "Epoch [200], val_loss: 2210989.0000\n",
      "Epoch [220], val_loss: 1388012.1250\n",
      "Epoch [240], val_loss: 871508.1250\n",
      "Epoch [260], val_loss: 547169.0625\n",
      "Epoch [280], val_loss: 343652.8125\n",
      "Epoch [300], val_loss: 215818.4844\n",
      "Epoch [320], val_loss: 135654.5156\n",
      "Epoch [340], val_loss: 85268.8828\n",
      "Epoch [360], val_loss: 53651.1172\n",
      "Epoch [380], val_loss: 33787.8750\n",
      "Epoch [400], val_loss: 21319.4102\n",
      "Epoch [420], val_loss: 13480.3828\n",
      "Epoch [440], val_loss: 8561.8184\n",
      "Epoch [460], val_loss: 5468.9385\n",
      "Epoch [480], val_loss: 3525.8875\n",
      "Epoch [500], val_loss: 2305.6584\n",
      "Epoch [520], val_loss: 1539.4495\n",
      "Epoch [540], val_loss: 1057.0854\n",
      "Epoch [560], val_loss: 753.1666\n",
      "Epoch [580], val_loss: 561.6392\n",
      "Epoch [600], val_loss: 441.4214\n",
      "Epoch [620], val_loss: 365.5115\n",
      "Epoch [640], val_loss: 317.7187\n",
      "Epoch [660], val_loss: 287.3466\n",
      "Epoch [680], val_loss: 268.0491\n",
      "Epoch [700], val_loss: 255.8406\n",
      "Epoch [720], val_loss: 248.0545\n",
      "Epoch [740], val_loss: 243.1401\n",
      "Epoch [760], val_loss: 239.9141\n",
      "Epoch [780], val_loss: 237.8812\n",
      "Epoch [800], val_loss: 236.5811\n",
      "Epoch [820], val_loss: 235.7233\n",
      "Epoch [840], val_loss: 235.1625\n",
      "Epoch [860], val_loss: 234.7883\n",
      "Epoch [880], val_loss: 234.5404\n",
      "Epoch [900], val_loss: 234.3643\n",
      "Epoch [920], val_loss: 234.2373\n",
      "Epoch [940], val_loss: 234.1553\n",
      "Epoch [960], val_loss: 234.1034\n",
      "Epoch [980], val_loss: 234.0566\n",
      "Epoch [1000], val_loss: 234.0287\n",
      "Epoch [1020], val_loss: 234.0069\n",
      "Epoch [1040], val_loss: 233.9884\n",
      "Epoch [1060], val_loss: 233.9722\n",
      "Epoch [1080], val_loss: 233.9599\n",
      "Epoch [1100], val_loss: 233.9507\n",
      "Epoch [1120], val_loss: 233.9507\n",
      "Epoch [1140], val_loss: 233.9407\n",
      "Epoch [1160], val_loss: 233.9435\n",
      "Epoch [1180], val_loss: 233.9430\n",
      "Epoch [1200], val_loss: 233.9322\n",
      "Epoch [1220], val_loss: 233.9307\n",
      "Epoch [1240], val_loss: 233.9322\n",
      "Epoch [1260], val_loss: 233.9248\n",
      "Epoch [1280], val_loss: 233.9214\n",
      "Epoch [1300], val_loss: 233.9248\n",
      "Epoch [1320], val_loss: 233.9233\n",
      "Epoch [1340], val_loss: 233.9242\n",
      "Epoch [1360], val_loss: 233.9276\n",
      "Epoch [1380], val_loss: 233.9200\n",
      "Epoch [1400], val_loss: 233.9200\n",
      "Epoch [1420], val_loss: 233.9248\n",
      "Epoch [1440], val_loss: 233.9319\n",
      "Epoch [1460], val_loss: 233.9248\n",
      "Epoch [1480], val_loss: 233.9298\n",
      "Epoch [1500], val_loss: 233.9298\n",
      "Epoch [1520], val_loss: 233.9298\n",
      "Epoch [1540], val_loss: 233.9277\n",
      "Epoch [1560], val_loss: 233.9293\n",
      "Epoch [1580], val_loss: 233.9293\n",
      "Epoch [1600], val_loss: 233.9277\n",
      "Epoch [1620], val_loss: 233.9322\n",
      "Epoch [1640], val_loss: 233.9276\n",
      "Epoch [1660], val_loss: 233.9251\n",
      "Epoch [1680], val_loss: 233.9310\n",
      "Epoch [1700], val_loss: 233.9322\n",
      "Epoch [1720], val_loss: 233.9319\n",
      "Epoch [1740], val_loss: 233.9330\n",
      "Epoch [1760], val_loss: 233.9298\n",
      "Epoch [1780], val_loss: 233.9290\n",
      "Epoch [1800], val_loss: 233.9214\n",
      "Epoch [1820], val_loss: 233.9235\n",
      "Epoch [1840], val_loss: 233.9235\n",
      "Epoch [1860], val_loss: 233.9276\n",
      "Epoch [1880], val_loss: 233.9200\n",
      "Epoch [1900], val_loss: 233.9200\n",
      "Epoch [1920], val_loss: 233.9235\n",
      "Epoch [1940], val_loss: 233.9200\n",
      "Epoch [1960], val_loss: 233.9242\n",
      "Epoch [1980], val_loss: 233.9258\n",
      "Epoch [2000], val_loss: 233.9258\n"
     ]
    }
   ],
   "source": [
    "epochs = 2000\n",
    "lr = 1e-12\n",
    "history1 = fit(epochs, lr, model, train_loader, val_loader)"
   ]
  },
  {
   "cell_type": "code",
   "execution_count": 134,
   "metadata": {
    "colab": {
     "base_uri": "https://localhost:8080/"
    },
    "id": "3rabeT9pTIsg",
    "outputId": "71574d3c-b137-49fa-c936-f860e93fb9dd"
   },
   "outputs": [
    {
     "name": "stdout",
     "output_type": "stream",
     "text": [
      "Epoch [20], val_loss: 6.6562\n",
      "Epoch [40], val_loss: 6.6560\n",
      "Epoch [60], val_loss: 6.6553\n",
      "Epoch [80], val_loss: 6.6553\n",
      "Epoch [100], val_loss: 6.6546\n",
      "Epoch [120], val_loss: 6.6582\n",
      "Epoch [140], val_loss: 6.6542\n",
      "Epoch [160], val_loss: 6.6548\n",
      "Epoch [180], val_loss: 6.6567\n",
      "Epoch [200], val_loss: 6.6561\n",
      "Epoch [220], val_loss: 6.6557\n",
      "Epoch [240], val_loss: 6.6564\n",
      "Epoch [260], val_loss: 6.6540\n",
      "Epoch [280], val_loss: 6.6533\n",
      "Epoch [300], val_loss: 6.6543\n",
      "Epoch [320], val_loss: 6.6526\n",
      "Epoch [340], val_loss: 6.6550\n",
      "Epoch [360], val_loss: 6.6550\n",
      "Epoch [380], val_loss: 6.6525\n",
      "Epoch [400], val_loss: 6.6517\n",
      "Epoch [420], val_loss: 6.6520\n",
      "Epoch [440], val_loss: 6.6543\n",
      "Epoch [460], val_loss: 6.6512\n",
      "Epoch [480], val_loss: 6.6534\n",
      "Epoch [500], val_loss: 6.6516\n",
      "Epoch [520], val_loss: 6.6574\n",
      "Epoch [540], val_loss: 6.6509\n",
      "Epoch [560], val_loss: 6.6514\n",
      "Epoch [580], val_loss: 6.6535\n",
      "Epoch [600], val_loss: 6.6504\n",
      "Epoch [620], val_loss: 6.6518\n",
      "Epoch [640], val_loss: 6.6501\n",
      "Epoch [660], val_loss: 6.6495\n",
      "Epoch [680], val_loss: 6.6518\n",
      "Epoch [700], val_loss: 6.6512\n",
      "Epoch [720], val_loss: 6.6492\n",
      "Epoch [740], val_loss: 6.6505\n",
      "Epoch [760], val_loss: 6.6499\n",
      "Epoch [780], val_loss: 6.6510\n",
      "Epoch [800], val_loss: 6.6520\n",
      "Epoch [820], val_loss: 6.6504\n",
      "Epoch [840], val_loss: 6.6480\n",
      "Epoch [860], val_loss: 6.6485\n",
      "Epoch [880], val_loss: 6.6502\n",
      "Epoch [900], val_loss: 6.6482\n",
      "Epoch [920], val_loss: 6.6472\n",
      "Epoch [940], val_loss: 6.6522\n",
      "Epoch [960], val_loss: 6.6531\n",
      "Epoch [980], val_loss: 6.6538\n",
      "Epoch [1000], val_loss: 6.6484\n",
      "Epoch [1020], val_loss: 6.6467\n",
      "Epoch [1040], val_loss: 6.6472\n",
      "Epoch [1060], val_loss: 6.6467\n",
      "Epoch [1080], val_loss: 6.6466\n",
      "Epoch [1100], val_loss: 6.6475\n",
      "Epoch [1120], val_loss: 6.6516\n",
      "Epoch [1140], val_loss: 6.6478\n",
      "Epoch [1160], val_loss: 6.6483\n",
      "Epoch [1180], val_loss: 6.6449\n",
      "Epoch [1200], val_loss: 6.6457\n",
      "Epoch [1220], val_loss: 6.6455\n",
      "Epoch [1240], val_loss: 6.6468\n",
      "Epoch [1260], val_loss: 6.6450\n",
      "Epoch [1280], val_loss: 6.6469\n",
      "Epoch [1300], val_loss: 6.6453\n",
      "Epoch [1320], val_loss: 6.6457\n",
      "Epoch [1340], val_loss: 6.6442\n",
      "Epoch [1360], val_loss: 6.6435\n",
      "Epoch [1380], val_loss: 6.6436\n",
      "Epoch [1400], val_loss: 6.6431\n",
      "Epoch [1420], val_loss: 6.6432\n",
      "Epoch [1440], val_loss: 6.6437\n",
      "Epoch [1460], val_loss: 6.6428\n",
      "Epoch [1480], val_loss: 6.6423\n",
      "Epoch [1500], val_loss: 6.6433\n",
      "Epoch [1520], val_loss: 6.6419\n",
      "Epoch [1540], val_loss: 6.6442\n",
      "Epoch [1560], val_loss: 6.6498\n",
      "Epoch [1580], val_loss: 6.6521\n",
      "Epoch [1600], val_loss: 6.6456\n",
      "Epoch [1620], val_loss: 6.6469\n",
      "Epoch [1640], val_loss: 6.6431\n",
      "Epoch [1660], val_loss: 6.6404\n",
      "Epoch [1680], val_loss: 6.6408\n",
      "Epoch [1700], val_loss: 6.6401\n",
      "Epoch [1720], val_loss: 6.6417\n",
      "Epoch [1740], val_loss: 6.6430\n",
      "Epoch [1760], val_loss: 6.6400\n",
      "Epoch [1780], val_loss: 6.6405\n",
      "Epoch [1800], val_loss: 6.6388\n",
      "Epoch [1820], val_loss: 6.6417\n",
      "Epoch [1840], val_loss: 6.6436\n",
      "Epoch [1860], val_loss: 6.6390\n",
      "Epoch [1880], val_loss: 6.6412\n",
      "Epoch [1900], val_loss: 6.6397\n",
      "Epoch [1920], val_loss: 6.6394\n",
      "Epoch [1940], val_loss: 6.6408\n",
      "Epoch [1960], val_loss: 6.6395\n",
      "Epoch [1980], val_loss: 6.6398\n",
      "Epoch [2000], val_loss: 6.6408\n"
     ]
    }
   ],
   "source": [
    "epochs = 2000\n",
    "lr = 1e-10\n",
    "history2 = fit(epochs, lr, model, train_loader, val_loader)"
   ]
  },
  {
   "cell_type": "code",
   "execution_count": 139,
   "metadata": {
    "colab": {
     "base_uri": "https://localhost:8080/"
    },
    "id": "W7HzCnOKTIsg",
    "outputId": "7a1dfe8d-70f2-4ff6-cfd5-148a6ee1180c"
   },
   "outputs": [
    {
     "name": "stdout",
     "output_type": "stream",
     "text": [
      "Epoch [20], val_loss: 448897920.0000\n",
      "Epoch [40], val_loss: 446813664.0000\n",
      "Epoch [60], val_loss: 444739328.0000\n",
      "Epoch [80], val_loss: 442674240.0000\n",
      "Epoch [100], val_loss: 440619008.0000\n",
      "Epoch [120], val_loss: 438571936.0000\n",
      "Epoch [140], val_loss: 436534784.0000\n",
      "Epoch [160], val_loss: 434507872.0000\n",
      "Epoch [180], val_loss: 432487168.0000\n",
      "Epoch [200], val_loss: 430479232.0000\n",
      "Epoch [220], val_loss: 428479808.0000\n",
      "Epoch [240], val_loss: 426489472.0000\n",
      "Epoch [260], val_loss: 424509056.0000\n",
      "Epoch [280], val_loss: 422537600.0000\n",
      "Epoch [300], val_loss: 420575424.0000\n",
      "Epoch [320], val_loss: 418621248.0000\n",
      "Epoch [340], val_loss: 416678016.0000\n",
      "Epoch [360], val_loss: 414742464.0000\n",
      "Epoch [380], val_loss: 412816544.0000\n",
      "Epoch [400], val_loss: 410899008.0000\n",
      "Epoch [420], val_loss: 408990592.0000\n",
      "Epoch [440], val_loss: 407092160.0000\n",
      "Epoch [460], val_loss: 405201408.0000\n",
      "Epoch [480], val_loss: 403319808.0000\n",
      "Epoch [500], val_loss: 401447680.0000\n",
      "Epoch [520], val_loss: 399584064.0000\n",
      "Epoch [540], val_loss: 397728640.0000\n",
      "Epoch [560], val_loss: 395881664.0000\n",
      "Epoch [580], val_loss: 394044064.0000\n",
      "Epoch [600], val_loss: 392215040.0000\n",
      "Epoch [620], val_loss: 390394336.0000\n",
      "Epoch [640], val_loss: 388581248.0000\n",
      "Epoch [660], val_loss: 386776832.0000\n",
      "Epoch [680], val_loss: 384980736.0000\n",
      "Epoch [700], val_loss: 383191648.0000\n",
      "Epoch [720], val_loss: 381412448.0000\n",
      "Epoch [740], val_loss: 379641536.0000\n",
      "Epoch [760], val_loss: 377877824.0000\n",
      "Epoch [780], val_loss: 376122560.0000\n",
      "Epoch [800], val_loss: 374377152.0000\n",
      "Epoch [820], val_loss: 372638944.0000\n",
      "Epoch [840], val_loss: 370908672.0000\n",
      "Epoch [860], val_loss: 369186784.0000\n",
      "Epoch [880], val_loss: 367472032.0000\n",
      "Epoch [900], val_loss: 365765184.0000\n",
      "Epoch [920], val_loss: 364065952.0000\n",
      "Epoch [940], val_loss: 362375904.0000\n",
      "Epoch [960], val_loss: 360692928.0000\n",
      "Epoch [980], val_loss: 359018432.0000\n",
      "Epoch [1000], val_loss: 357351200.0000\n",
      "Epoch [1020], val_loss: 355691680.0000\n",
      "Epoch [1040], val_loss: 354040064.0000\n",
      "Epoch [1060], val_loss: 352394784.0000\n",
      "Epoch [1080], val_loss: 350758880.0000\n",
      "Epoch [1100], val_loss: 349129920.0000\n",
      "Epoch [1120], val_loss: 347508736.0000\n",
      "Epoch [1140], val_loss: 345895456.0000\n",
      "Epoch [1160], val_loss: 344288928.0000\n",
      "Epoch [1180], val_loss: 342690464.0000\n",
      "Epoch [1200], val_loss: 341097312.0000\n",
      "Epoch [1220], val_loss: 339512832.0000\n",
      "Epoch [1240], val_loss: 337935328.0000\n",
      "Epoch [1260], val_loss: 336366176.0000\n",
      "Epoch [1280], val_loss: 334803616.0000\n",
      "Epoch [1300], val_loss: 333249248.0000\n",
      "Epoch [1320], val_loss: 331701472.0000\n",
      "Epoch [1340], val_loss: 330161120.0000\n",
      "Epoch [1360], val_loss: 328628320.0000\n",
      "Epoch [1380], val_loss: 327102112.0000\n",
      "Epoch [1400], val_loss: 325583232.0000\n",
      "Epoch [1420], val_loss: 324070624.0000\n",
      "Epoch [1440], val_loss: 322565120.0000\n",
      "Epoch [1460], val_loss: 321066880.0000\n",
      "Epoch [1480], val_loss: 319575584.0000\n",
      "Epoch [1500], val_loss: 318091104.0000\n",
      "Epoch [1520], val_loss: 316613664.0000\n",
      "Epoch [1540], val_loss: 315143264.0000\n",
      "Epoch [1560], val_loss: 313679968.0000\n",
      "Epoch [1580], val_loss: 312223488.0000\n",
      "Epoch [1600], val_loss: 310774080.0000\n",
      "Epoch [1620], val_loss: 309330848.0000\n",
      "Epoch [1640], val_loss: 307894752.0000\n",
      "Epoch [1660], val_loss: 306464288.0000\n",
      "Epoch [1680], val_loss: 305041728.0000\n",
      "Epoch [1700], val_loss: 303624992.0000\n",
      "Epoch [1720], val_loss: 302215232.0000\n",
      "Epoch [1740], val_loss: 300811808.0000\n",
      "Epoch [1760], val_loss: 299415264.0000\n",
      "Epoch [1780], val_loss: 298025792.0000\n",
      "Epoch [1800], val_loss: 296642048.0000\n",
      "Epoch [1820], val_loss: 295264352.0000\n",
      "Epoch [1840], val_loss: 293892896.0000\n",
      "Epoch [1860], val_loss: 292528032.0000\n",
      "Epoch [1880], val_loss: 291168576.0000\n",
      "Epoch [1900], val_loss: 289815968.0000\n",
      "Epoch [1920], val_loss: 288469696.0000\n",
      "Epoch [1940], val_loss: 287128928.0000\n",
      "Epoch [1960], val_loss: 285795776.0000\n",
      "Epoch [1980], val_loss: 284468736.0000\n",
      "Epoch [2000], val_loss: 283148192.0000\n"
     ]
    }
   ],
   "source": [
    "epochs = 2000\n",
    "lr = 1e-14\n",
    "history3 = fit(epochs, lr, model, train_loader, val_loader)"
   ]
  },
  {
   "cell_type": "code",
   "execution_count": 144,
   "metadata": {
    "colab": {
     "base_uri": "https://localhost:8080/"
    },
    "id": "atNmMQs_TIsg",
    "outputId": "2c369b0d-8ada-4d0b-d3b6-f7847c3a46cd"
   },
   "outputs": [
    {
     "name": "stdout",
     "output_type": "stream",
     "text": [
      "Epoch [20], val_loss: 624341632.0000\n",
      "Epoch [40], val_loss: 624051200.0000\n",
      "Epoch [60], val_loss: 623761024.0000\n",
      "Epoch [80], val_loss: 623470848.0000\n",
      "Epoch [100], val_loss: 623180800.0000\n",
      "Epoch [120], val_loss: 622890752.0000\n",
      "Epoch [140], val_loss: 622600960.0000\n",
      "Epoch [160], val_loss: 622311424.0000\n",
      "Epoch [180], val_loss: 622021632.0000\n",
      "Epoch [200], val_loss: 621732288.0000\n",
      "Epoch [220], val_loss: 621443136.0000\n",
      "Epoch [240], val_loss: 621153856.0000\n",
      "Epoch [260], val_loss: 620864896.0000\n",
      "Epoch [280], val_loss: 620576000.0000\n",
      "Epoch [300], val_loss: 620287360.0000\n",
      "Epoch [320], val_loss: 619998592.0000\n",
      "Epoch [340], val_loss: 619710016.0000\n",
      "Epoch [360], val_loss: 619421952.0000\n",
      "Epoch [380], val_loss: 619133824.0000\n",
      "Epoch [400], val_loss: 618845632.0000\n",
      "Epoch [420], val_loss: 618557504.0000\n",
      "Epoch [440], val_loss: 618269568.0000\n",
      "Epoch [460], val_loss: 617981824.0000\n",
      "Epoch [480], val_loss: 617694464.0000\n",
      "Epoch [500], val_loss: 617406976.0000\n",
      "Epoch [520], val_loss: 617119680.0000\n",
      "Epoch [540], val_loss: 616832576.0000\n",
      "Epoch [560], val_loss: 616545216.0000\n",
      "Epoch [580], val_loss: 616258432.0000\n",
      "Epoch [600], val_loss: 615971712.0000\n",
      "Epoch [620], val_loss: 615685120.0000\n",
      "Epoch [640], val_loss: 615398592.0000\n",
      "Epoch [660], val_loss: 615112128.0000\n",
      "Epoch [680], val_loss: 614825920.0000\n",
      "Epoch [700], val_loss: 614539776.0000\n",
      "Epoch [720], val_loss: 614253760.0000\n",
      "Epoch [740], val_loss: 613967808.0000\n",
      "Epoch [760], val_loss: 613682176.0000\n",
      "Epoch [780], val_loss: 613396480.0000\n",
      "Epoch [800], val_loss: 613110848.0000\n",
      "Epoch [820], val_loss: 612825408.0000\n",
      "Epoch [840], val_loss: 612540288.0000\n",
      "Epoch [860], val_loss: 612255424.0000\n",
      "Epoch [880], val_loss: 611970240.0000\n",
      "Epoch [900], val_loss: 611685568.0000\n",
      "Epoch [920], val_loss: 611400832.0000\n",
      "Epoch [940], val_loss: 611116416.0000\n",
      "Epoch [960], val_loss: 610832000.0000\n",
      "Epoch [980], val_loss: 610547904.0000\n",
      "Epoch [1000], val_loss: 610263680.0000\n",
      "Epoch [1020], val_loss: 609979904.0000\n",
      "Epoch [1040], val_loss: 609696000.0000\n",
      "Epoch [1060], val_loss: 609412352.0000\n",
      "Epoch [1080], val_loss: 609128704.0000\n",
      "Epoch [1100], val_loss: 608845184.0000\n",
      "Epoch [1120], val_loss: 608561792.0000\n",
      "Epoch [1140], val_loss: 608278464.0000\n",
      "Epoch [1160], val_loss: 607995264.0000\n",
      "Epoch [1180], val_loss: 607712192.0000\n",
      "Epoch [1200], val_loss: 607429376.0000\n",
      "Epoch [1220], val_loss: 607146880.0000\n",
      "Epoch [1240], val_loss: 606864256.0000\n",
      "Epoch [1260], val_loss: 606581888.0000\n",
      "Epoch [1280], val_loss: 606299456.0000\n",
      "Epoch [1300], val_loss: 606017472.0000\n",
      "Epoch [1320], val_loss: 605735488.0000\n",
      "Epoch [1340], val_loss: 605453248.0000\n",
      "Epoch [1360], val_loss: 605171648.0000\n",
      "Epoch [1380], val_loss: 604889856.0000\n",
      "Epoch [1400], val_loss: 604608448.0000\n",
      "Epoch [1420], val_loss: 604326976.0000\n",
      "Epoch [1440], val_loss: 604046016.0000\n",
      "Epoch [1460], val_loss: 603764928.0000\n",
      "Epoch [1480], val_loss: 603483776.0000\n",
      "Epoch [1500], val_loss: 603202944.0000\n",
      "Epoch [1520], val_loss: 602922176.0000\n",
      "Epoch [1540], val_loss: 602641600.0000\n",
      "Epoch [1560], val_loss: 602361088.0000\n",
      "Epoch [1580], val_loss: 602080704.0000\n",
      "Epoch [1600], val_loss: 601800448.0000\n",
      "Epoch [1620], val_loss: 601520384.0000\n",
      "Epoch [1640], val_loss: 601240448.0000\n",
      "Epoch [1660], val_loss: 600960704.0000\n",
      "Epoch [1680], val_loss: 600680960.0000\n",
      "Epoch [1700], val_loss: 600401152.0000\n",
      "Epoch [1720], val_loss: 600121920.0000\n",
      "Epoch [1740], val_loss: 599842816.0000\n",
      "Epoch [1760], val_loss: 599563648.0000\n",
      "Epoch [1780], val_loss: 599284672.0000\n",
      "Epoch [1800], val_loss: 599005568.0000\n",
      "Epoch [1820], val_loss: 598726912.0000\n",
      "Epoch [1840], val_loss: 598448448.0000\n",
      "Epoch [1860], val_loss: 598169984.0000\n",
      "Epoch [1880], val_loss: 597891520.0000\n",
      "Epoch [1900], val_loss: 597613440.0000\n",
      "Epoch [1920], val_loss: 597335424.0000\n",
      "Epoch [1940], val_loss: 597057536.0000\n",
      "Epoch [1960], val_loss: 596779456.0000\n",
      "Epoch [1980], val_loss: 596501760.0000\n",
      "Epoch [2000], val_loss: 596224256.0000\n"
     ]
    }
   ],
   "source": [
    "epochs = 2000\n",
    "lr = 1e-15\n",
    "history4 = fit(epochs, lr, model, train_loader, val_loader)"
   ]
  },
  {
   "cell_type": "code",
   "execution_count": 149,
   "metadata": {
    "colab": {
     "base_uri": "https://localhost:8080/"
    },
    "id": "AtAxjmAMTIsg",
    "outputId": "1f16b5ed-6029-4667-db37-b28f8718f93a"
   },
   "outputs": [
    {
     "name": "stdout",
     "output_type": "stream",
     "text": [
      "Epoch [20], val_loss: 533238016.0000\n",
      "Epoch [40], val_loss: 508980032.0000\n",
      "Epoch [60], val_loss: 485841792.0000\n",
      "Epoch [80], val_loss: 463739232.0000\n",
      "Epoch [100], val_loss: 442665056.0000\n",
      "Epoch [120], val_loss: 422525152.0000\n",
      "Epoch [140], val_loss: 403303808.0000\n",
      "Epoch [160], val_loss: 384952000.0000\n",
      "Epoch [180], val_loss: 367436032.0000\n",
      "Epoch [200], val_loss: 350717472.0000\n",
      "Epoch [220], val_loss: 334767776.0000\n",
      "Epoch [240], val_loss: 319545696.0000\n",
      "Epoch [260], val_loss: 305013760.0000\n",
      "Epoch [280], val_loss: 291142240.0000\n",
      "Epoch [300], val_loss: 277903168.0000\n",
      "Epoch [320], val_loss: 265269600.0000\n",
      "Epoch [340], val_loss: 253208960.0000\n",
      "Epoch [360], val_loss: 241691456.0000\n",
      "Epoch [380], val_loss: 230700512.0000\n",
      "Epoch [400], val_loss: 220201760.0000\n",
      "Epoch [420], val_loss: 210188368.0000\n",
      "Epoch [440], val_loss: 200634592.0000\n",
      "Epoch [460], val_loss: 191512944.0000\n",
      "Epoch [480], val_loss: 182800272.0000\n",
      "Epoch [500], val_loss: 174482784.0000\n",
      "Epoch [520], val_loss: 166546480.0000\n",
      "Epoch [540], val_loss: 158971232.0000\n",
      "Epoch [560], val_loss: 151739520.0000\n",
      "Epoch [580], val_loss: 144838736.0000\n",
      "Epoch [600], val_loss: 138254848.0000\n",
      "Epoch [620], val_loss: 131963704.0000\n",
      "Epoch [640], val_loss: 125963360.0000\n",
      "Epoch [660], val_loss: 120233600.0000\n",
      "Epoch [680], val_loss: 114762720.0000\n",
      "Epoch [700], val_loss: 109547032.0000\n",
      "Epoch [720], val_loss: 104562616.0000\n",
      "Epoch [740], val_loss: 99803400.0000\n",
      "Epoch [760], val_loss: 95264064.0000\n",
      "Epoch [780], val_loss: 90931216.0000\n",
      "Epoch [800], val_loss: 86797904.0000\n",
      "Epoch [820], val_loss: 82849968.0000\n",
      "Epoch [840], val_loss: 79080984.0000\n",
      "Epoch [860], val_loss: 75484512.0000\n",
      "Epoch [880], val_loss: 72050632.0000\n",
      "Epoch [900], val_loss: 68774968.0000\n",
      "Epoch [920], val_loss: 65646564.0000\n",
      "Epoch [940], val_loss: 62658620.0000\n",
      "Epoch [960], val_loss: 59808548.0000\n",
      "Epoch [980], val_loss: 57089124.0000\n",
      "Epoch [1000], val_loss: 54493844.0000\n",
      "Epoch [1020], val_loss: 52015328.0000\n",
      "Epoch [1040], val_loss: 49649280.0000\n",
      "Epoch [1060], val_loss: 47390988.0000\n",
      "Epoch [1080], val_loss: 45236248.0000\n",
      "Epoch [1100], val_loss: 43179612.0000\n",
      "Epoch [1120], val_loss: 41215644.0000\n",
      "Epoch [1140], val_loss: 39342112.0000\n",
      "Epoch [1160], val_loss: 37552148.0000\n",
      "Epoch [1180], val_loss: 35844828.0000\n",
      "Epoch [1200], val_loss: 34214068.0000\n",
      "Epoch [1220], val_loss: 32657146.0000\n",
      "Epoch [1240], val_loss: 31172296.0000\n",
      "Epoch [1260], val_loss: 29754864.0000\n",
      "Epoch [1280], val_loss: 28401716.0000\n",
      "Epoch [1300], val_loss: 27110228.0000\n",
      "Epoch [1320], val_loss: 25877082.0000\n",
      "Epoch [1340], val_loss: 24700538.0000\n",
      "Epoch [1360], val_loss: 23576884.0000\n",
      "Epoch [1380], val_loss: 22504474.0000\n",
      "Epoch [1400], val_loss: 21481212.0000\n",
      "Epoch [1420], val_loss: 20504224.0000\n",
      "Epoch [1440], val_loss: 19571930.0000\n",
      "Epoch [1460], val_loss: 18681882.0000\n",
      "Epoch [1480], val_loss: 17831928.0000\n",
      "Epoch [1500], val_loss: 17020818.0000\n",
      "Epoch [1520], val_loss: 16246425.0000\n",
      "Epoch [1540], val_loss: 15507622.0000\n",
      "Epoch [1560], val_loss: 14802472.0000\n",
      "Epoch [1580], val_loss: 14129160.0000\n",
      "Epoch [1600], val_loss: 13486864.0000\n",
      "Epoch [1620], val_loss: 12873275.0000\n",
      "Epoch [1640], val_loss: 12287668.0000\n",
      "Epoch [1660], val_loss: 11728633.0000\n",
      "Epoch [1680], val_loss: 11195316.0000\n",
      "Epoch [1700], val_loss: 10686158.0000\n",
      "Epoch [1720], val_loss: 10199870.0000\n",
      "Epoch [1740], val_loss: 9736034.0000\n",
      "Epoch [1760], val_loss: 9293167.0000\n",
      "Epoch [1780], val_loss: 8870513.0000\n",
      "Epoch [1800], val_loss: 8467324.0000\n",
      "Epoch [1820], val_loss: 8082238.0000\n",
      "Epoch [1840], val_loss: 7714718.0000\n",
      "Epoch [1860], val_loss: 7364046.5000\n",
      "Epoch [1880], val_loss: 7029076.5000\n",
      "Epoch [1900], val_loss: 6709439.5000\n",
      "Epoch [1920], val_loss: 6404123.5000\n",
      "Epoch [1940], val_loss: 6112756.5000\n",
      "Epoch [1960], val_loss: 5834697.5000\n",
      "Epoch [1980], val_loss: 5569296.0000\n",
      "Epoch [2000], val_loss: 5316047.5000\n"
     ]
    }
   ],
   "source": [
    "epochs = 2000\n",
    "lr = 1e-13\n",
    "history5 = fit(epochs, lr, model, train_loader, val_loader)"
   ]
  },
  {
   "cell_type": "markdown",
   "metadata": {
    "id": "WsHOV9rpTIsh"
   },
   "source": [
    "**Q: What is the final validation loss of your model?**"
   ]
  },
  {
   "cell_type": "code",
   "execution_count": 151,
   "metadata": {
    "colab": {
     "base_uri": "https://localhost:8080/"
    },
    "id": "GfmDT3xKTIsh",
    "outputId": "be9eeca2-6e12-4179-94e3-f7d2f9b91963"
   },
   "outputs": [
    {
     "data": {
      "text/plain": [
       "596224256.0"
      ]
     },
     "execution_count": 151,
     "metadata": {
      "tags": []
     },
     "output_type": "execute_result"
    }
   ],
   "source": [
    "val_loss = history4[-1]['val_loss']\n",
    "val_loss"
   ]
  },
  {
   "cell_type": "markdown",
   "metadata": {
    "id": "8-QX2d1sTIsh"
   },
   "source": [
    "Let's log the final validation loss to Jovian and commit the notebook"
   ]
  },
  {
   "cell_type": "code",
   "execution_count": null,
   "metadata": {
    "id": "OBPzrVfhTIsh"
   },
   "outputs": [],
   "source": [
    "jovian.log_metrics(val_loss=val_loss)"
   ]
  },
  {
   "cell_type": "code",
   "execution_count": null,
   "metadata": {
    "id": "xmhQdsY4TIsh"
   },
   "outputs": [],
   "source": [
    "jovian.commit(project=project_name, environment=None)"
   ]
  },
  {
   "cell_type": "markdown",
   "metadata": {
    "id": "I5CPOGK-TIsi"
   },
   "source": [
    "Now scroll back up, re-initialize the model, and try different set of values for batch size, number of epochs, learning rate etc. Commit each experiment and use the \"Compare\" and \"View Diff\" options on Jovian to compare the different results."
   ]
  },
  {
   "cell_type": "markdown",
   "metadata": {
    "id": "L6REN9EVTIsi"
   },
   "source": [
    "## Step 5: Make predictions using the trained model\n",
    "\n",
    "**Q: Complete the following function definition to make predictions on a single input**"
   ]
  },
  {
   "cell_type": "code",
   "execution_count": 152,
   "metadata": {
    "id": "0V9tL2qVTIsi"
   },
   "outputs": [],
   "source": [
    "def predict_single(input, target, model):\n",
    "    inputs = input.unsqueeze(0)\n",
    "    predictions = model(inputs)               # fill this\n",
    "    prediction = predictions[0].detach()\n",
    "    print(\"Input:\", input)\n",
    "    print(\"Target:\", target)\n",
    "    print(\"Prediction:\", prediction)"
   ]
  },
  {
   "cell_type": "code",
   "execution_count": 153,
   "metadata": {
    "colab": {
     "base_uri": "https://localhost:8080/"
    },
    "id": "DBwjnqSrTIsi",
    "outputId": "397a3417-61b0-42d3-81bd-db042c6cc45b"
   },
   "outputs": [
    {
     "name": "stdout",
     "output_type": "stream",
     "text": [
      "Input: tensor([4.3000e+01, 1.0000e+00, 4.1313e+01, 2.0000e+00, 0.0000e+00, 2.0123e+04])\n",
      "Target: tensor([20122.5762])\n",
      "Prediction: tensor([17834.9082])\n"
     ]
    }
   ],
   "source": [
    "input, target = val_ds[0]\n",
    "predict_single(input, target, model)"
   ]
  },
  {
   "cell_type": "code",
   "execution_count": 154,
   "metadata": {
    "colab": {
     "base_uri": "https://localhost:8080/"
    },
    "id": "d4u7H856TIsj",
    "outputId": "24c442b7-969e-431e-e0f2-b56a37c88c62"
   },
   "outputs": [
    {
     "name": "stdout",
     "output_type": "stream",
     "text": [
      "Input: tensor([5.7000e+01, 1.0000e+00, 3.3901e+01, 0.0000e+00, 1.0000e+00, 2.9124e+04])\n",
      "Target: tensor([29123.7285])\n",
      "Prediction: tensor([25822.4727])\n"
     ]
    }
   ],
   "source": [
    "input, target = val_ds[10]\n",
    "predict_single(input, target, model)"
   ]
  },
  {
   "cell_type": "code",
   "execution_count": 155,
   "metadata": {
    "colab": {
     "base_uri": "https://localhost:8080/"
    },
    "id": "xFzc-fXOTIsj",
    "outputId": "451e52c6-6838-4d41-83f8-676c98fbeb5b"
   },
   "outputs": [
    {
     "name": "stdout",
     "output_type": "stream",
     "text": [
      "Input: tensor([5.2000e+01, 1.0000e+00, 3.9897e+01, 0.0000e+00, 0.0000e+00, 9.7808e+03])\n",
      "Target: tensor([9780.8174])\n",
      "Prediction: tensor([8661.0811])\n"
     ]
    }
   ],
   "source": [
    "input, target = val_ds[23]\n",
    "predict_single(input, target, model)"
   ]
  },
  {
   "cell_type": "markdown",
   "metadata": {
    "id": "EJqb9JTjTIsj"
   },
   "source": [
    "Are you happy with your model's predictions? Try to improve them further."
   ]
  },
  {
   "cell_type": "markdown",
   "metadata": {
    "id": "yIsqRDEtTIsj"
   },
   "source": [
    "## (Optional) Step 6: Try another dataset & blog about it\n",
    "\n",
    "While this last step is optional for the submission of your assignment, we highly recommend that you do it. Try to replicate this notebook for a different linear regression or logistic regression problem. This will help solidify your understanding, and give you a chance to differentiate the generic patterns in machine learning from problem-specific details.You can use one of these starer notebooks (just change the dataset):\n",
    "\n",
    "- Linear regression (minimal): https://jovian.ai/aakashns/housing-linear-minimal\n",
    "- Logistic regression (minimal): https://jovian.ai/aakashns/mnist-logistic-minimal\n",
    "\n",
    "Here are some sources to find good datasets:\n",
    "\n",
    "- https://lionbridge.ai/datasets/10-open-datasets-for-linear-regression/\n",
    "- https://www.kaggle.com/rtatman/datasets-for-regression-analysis\n",
    "- https://archive.ics.uci.edu/ml/datasets.php?format=&task=reg&att=&area=&numAtt=&numIns=&type=&sort=nameUp&view=table\n",
    "- https://people.sc.fsu.edu/~jburkardt/datasets/regression/regression.html\n",
    "- https://archive.ics.uci.edu/ml/datasets/wine+quality\n",
    "- https://pytorch.org/docs/stable/torchvision/datasets.html\n",
    "\n",
    "We also recommend that you write a blog about your approach to the problem. Here is a suggested structure for your post (feel free to experiment with it):\n",
    "\n",
    "- Interesting title & subtitle\n",
    "- Overview of what the blog covers (which dataset, linear regression or logistic regression, intro to PyTorch)\n",
    "- Downloading & exploring the data\n",
    "- Preparing the data for training\n",
    "- Creating a model using PyTorch\n",
    "- Training the model to fit the data\n",
    "- Your thoughts on how to experiment with different hyperparmeters to reduce loss\n",
    "- Making predictions using the model\n",
    "\n",
    "As with the previous assignment, you can [embed Juptyer notebook cells & outputs from Jovian](https://medium.com/jovianml/share-and-embed-jupyter-notebooks-online-with-jovian-ml-df709a03064e) into your blog. \n",
    "\n",
    "Don't forget to share your work on the forum: https://jovian.ai/forum/t/linear-regression-and-logistic-regression-notebooks-and-blog-posts/14039"
   ]
  },
  {
   "cell_type": "code",
   "execution_count": null,
   "metadata": {
    "id": "BTFEAG54TIsk",
    "outputId": "791c8fcd-46a8-4fae-b9f9-49296fa27039"
   },
   "outputs": [
    {
     "data": {
      "application/javascript": [
       "window.require && require([\"base/js/namespace\"],function(Jupyter){Jupyter.notebook.save_checkpoint()})"
      ],
      "text/plain": [
       "<IPython.core.display.Javascript object>"
      ]
     },
     "metadata": {
      "tags": []
     },
     "output_type": "display_data"
    },
    {
     "name": "stdout",
     "output_type": "stream",
     "text": [
      "[jovian] Attempting to save notebook..\u001b[0m\n",
      "[jovian] Updating notebook \"aakashns/02-insurance-linear-regression\" on https://jovian.ai/\u001b[0m\n",
      "[jovian] Uploading notebook..\u001b[0m\n",
      "[jovian] Committed successfully! https://jovian.ai/aakashns/02-insurance-linear-regression\u001b[0m\n"
     ]
    },
    {
     "data": {
      "application/javascript": [
       "window.require && require([\"base/js/namespace\"],function(Jupyter){Jupyter.notebook.save_checkpoint()})"
      ],
      "text/plain": [
       "<IPython.core.display.Javascript object>"
      ]
     },
     "metadata": {
      "tags": []
     },
     "output_type": "display_data"
    },
    {
     "name": "stdout",
     "output_type": "stream",
     "text": [
      "[jovian] Attempting to save notebook..\u001b[0m\n"
     ]
    }
   ],
   "source": [
    "jovian.commit(project=project_name, environment=None)\n",
    "jovian.commit(project=project_name, environment=None) # try again, kaggle fails sometimes"
   ]
  },
  {
   "cell_type": "code",
   "execution_count": null,
   "metadata": {
    "id": "0_JN1vTXTIsk"
   },
   "outputs": [],
   "source": []
  }
 ],
 "metadata": {
  "colab": {
   "collapsed_sections": [
    "yIsqRDEtTIsj"
   ],
   "name": "02-insurance-linear.ipynb",
   "provenance": []
  },
  "kernelspec": {
   "display_name": "Python 3",
   "language": "python",
   "name": "python3"
  },
  "language_info": {
   "codemirror_mode": {
    "name": "ipython",
    "version": 3
   },
   "file_extension": ".py",
   "mimetype": "text/x-python",
   "name": "python",
   "nbconvert_exporter": "python",
   "pygments_lexer": "ipython3",
   "version": "3.8.3"
  },
  "widgets": {
   "application/vnd.jupyter.widget-state+json": {
    "167c20daed8b443c8b29e9e72d9f760f": {
     "model_module": "@jupyter-widgets/base",
     "model_name": "LayoutModel",
     "state": {
      "_model_module": "@jupyter-widgets/base",
      "_model_module_version": "1.2.0",
      "_model_name": "LayoutModel",
      "_view_count": null,
      "_view_module": "@jupyter-widgets/base",
      "_view_module_version": "1.2.0",
      "_view_name": "LayoutView",
      "align_content": null,
      "align_items": null,
      "align_self": null,
      "border": null,
      "bottom": null,
      "display": null,
      "flex": null,
      "flex_flow": null,
      "grid_area": null,
      "grid_auto_columns": null,
      "grid_auto_flow": null,
      "grid_auto_rows": null,
      "grid_column": null,
      "grid_gap": null,
      "grid_row": null,
      "grid_template_areas": null,
      "grid_template_columns": null,
      "grid_template_rows": null,
      "height": null,
      "justify_content": null,
      "justify_items": null,
      "left": null,
      "margin": null,
      "max_height": null,
      "max_width": null,
      "min_height": null,
      "min_width": null,
      "object_fit": null,
      "object_position": null,
      "order": null,
      "overflow": null,
      "overflow_x": null,
      "overflow_y": null,
      "padding": null,
      "right": null,
      "top": null,
      "visibility": null,
      "width": null
     }
    },
    "2686a076a32049599d74f57c3ba980d1": {
     "model_module": "@jupyter-widgets/controls",
     "model_name": "HBoxModel",
     "state": {
      "_dom_classes": [],
      "_model_module": "@jupyter-widgets/controls",
      "_model_module_version": "1.5.0",
      "_model_name": "HBoxModel",
      "_view_count": null,
      "_view_module": "@jupyter-widgets/controls",
      "_view_module_version": "1.5.0",
      "_view_name": "HBoxView",
      "box_style": "",
      "children": [
       "IPY_MODEL_36554fa844774dba9a8f8a395477335b",
       "IPY_MODEL_a486bb0f363f4212855ff2b9ef56cdf0"
      ],
      "layout": "IPY_MODEL_6a05df7a51454cb8a414ef0cd2ff79d0"
     }
    },
    "36554fa844774dba9a8f8a395477335b": {
     "model_module": "@jupyter-widgets/controls",
     "model_name": "FloatProgressModel",
     "state": {
      "_dom_classes": [],
      "_model_module": "@jupyter-widgets/controls",
      "_model_module_version": "1.5.0",
      "_model_name": "FloatProgressModel",
      "_view_count": null,
      "_view_module": "@jupyter-widgets/controls",
      "_view_module_version": "1.5.0",
      "_view_name": "ProgressView",
      "bar_style": "info",
      "description": "",
      "description_tooltip": null,
      "layout": "IPY_MODEL_167c20daed8b443c8b29e9e72d9f760f",
      "max": 1,
      "min": 0,
      "orientation": "horizontal",
      "style": "IPY_MODEL_60f607dd9cce4ed2bcb2b9273b932312",
      "value": 1
     }
    },
    "60f607dd9cce4ed2bcb2b9273b932312": {
     "model_module": "@jupyter-widgets/controls",
     "model_name": "ProgressStyleModel",
     "state": {
      "_model_module": "@jupyter-widgets/controls",
      "_model_module_version": "1.5.0",
      "_model_name": "ProgressStyleModel",
      "_view_count": null,
      "_view_module": "@jupyter-widgets/base",
      "_view_module_version": "1.2.0",
      "_view_name": "StyleView",
      "bar_color": null,
      "description_width": "initial"
     }
    },
    "6a05df7a51454cb8a414ef0cd2ff79d0": {
     "model_module": "@jupyter-widgets/base",
     "model_name": "LayoutModel",
     "state": {
      "_model_module": "@jupyter-widgets/base",
      "_model_module_version": "1.2.0",
      "_model_name": "LayoutModel",
      "_view_count": null,
      "_view_module": "@jupyter-widgets/base",
      "_view_module_version": "1.2.0",
      "_view_name": "LayoutView",
      "align_content": null,
      "align_items": null,
      "align_self": null,
      "border": null,
      "bottom": null,
      "display": null,
      "flex": null,
      "flex_flow": null,
      "grid_area": null,
      "grid_auto_columns": null,
      "grid_auto_flow": null,
      "grid_auto_rows": null,
      "grid_column": null,
      "grid_gap": null,
      "grid_row": null,
      "grid_template_areas": null,
      "grid_template_columns": null,
      "grid_template_rows": null,
      "height": null,
      "justify_content": null,
      "justify_items": null,
      "left": null,
      "margin": null,
      "max_height": null,
      "max_width": null,
      "min_height": null,
      "min_width": null,
      "object_fit": null,
      "object_position": null,
      "order": null,
      "overflow": null,
      "overflow_x": null,
      "overflow_y": null,
      "padding": null,
      "right": null,
      "top": null,
      "visibility": null,
      "width": null
     }
    },
    "84b8ecddb56343a5a7f7b09e85312571": {
     "model_module": "@jupyter-widgets/base",
     "model_name": "LayoutModel",
     "state": {
      "_model_module": "@jupyter-widgets/base",
      "_model_module_version": "1.2.0",
      "_model_name": "LayoutModel",
      "_view_count": null,
      "_view_module": "@jupyter-widgets/base",
      "_view_module_version": "1.2.0",
      "_view_name": "LayoutView",
      "align_content": null,
      "align_items": null,
      "align_self": null,
      "border": null,
      "bottom": null,
      "display": null,
      "flex": null,
      "flex_flow": null,
      "grid_area": null,
      "grid_auto_columns": null,
      "grid_auto_flow": null,
      "grid_auto_rows": null,
      "grid_column": null,
      "grid_gap": null,
      "grid_row": null,
      "grid_template_areas": null,
      "grid_template_columns": null,
      "grid_template_rows": null,
      "height": null,
      "justify_content": null,
      "justify_items": null,
      "left": null,
      "margin": null,
      "max_height": null,
      "max_width": null,
      "min_height": null,
      "min_width": null,
      "object_fit": null,
      "object_position": null,
      "order": null,
      "overflow": null,
      "overflow_x": null,
      "overflow_y": null,
      "padding": null,
      "right": null,
      "top": null,
      "visibility": null,
      "width": null
     }
    },
    "a486bb0f363f4212855ff2b9ef56cdf0": {
     "model_module": "@jupyter-widgets/controls",
     "model_name": "HTMLModel",
     "state": {
      "_dom_classes": [],
      "_model_module": "@jupyter-widgets/controls",
      "_model_module_version": "1.5.0",
      "_model_name": "HTMLModel",
      "_view_count": null,
      "_view_module": "@jupyter-widgets/controls",
      "_view_module_version": "1.5.0",
      "_view_name": "HTMLView",
      "description": "",
      "description_tooltip": null,
      "layout": "IPY_MODEL_84b8ecddb56343a5a7f7b09e85312571",
      "placeholder": "​",
      "style": "IPY_MODEL_d5b7845f344543518dbadf5942ed6fdf",
      "value": " 57344/? [00:20&lt;00:00, 128426.14it/s]"
     }
    },
    "d5b7845f344543518dbadf5942ed6fdf": {
     "model_module": "@jupyter-widgets/controls",
     "model_name": "DescriptionStyleModel",
     "state": {
      "_model_module": "@jupyter-widgets/controls",
      "_model_module_version": "1.5.0",
      "_model_name": "DescriptionStyleModel",
      "_view_count": null,
      "_view_module": "@jupyter-widgets/base",
      "_view_module_version": "1.2.0",
      "_view_name": "StyleView",
      "description_width": ""
     }
    }
   }
  }
 },
 "nbformat": 4,
 "nbformat_minor": 1
}
